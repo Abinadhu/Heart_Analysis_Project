{
 "cells": [
  {
   "cell_type": "code",
   "execution_count": 2,
   "metadata": {},
   "outputs": [],
   "source": [
    "# Trial with working hours data\n",
    "\n",
    "\n",
    "import pandas as pd\n",
    "import seaborn as sns\n",
    "import matplotlib \n",
    "from matplotlib import pyplot as plt\n",
    "import numpy as np \n",
    "from scipy import stats "
   ]
  },
  {
   "cell_type": "code",
   "execution_count": 3,
   "metadata": {},
   "outputs": [],
   "source": [
    "from skbio.stats.distance import DistanceMatrix\n",
    "from skbio.stats.distance import permanova\n",
    "from skbio.diversity import beta_diversity "
   ]
  },
  {
   "cell_type": "code",
   "execution_count": 6,
   "metadata": {},
   "outputs": [],
   "source": [
    "wlb = pd.read_csv('Cities with the Best Work-Life Balance 2022.csv', delimiter= ',')"
   ]
  },
  {
   "cell_type": "code",
   "execution_count": 7,
   "metadata": {},
   "outputs": [],
   "source": [
    "wlb.columns = wlb.columns.str.replace( ' ', '_').str.lower()"
   ]
  },
  {
   "cell_type": "code",
   "execution_count": 8,
   "metadata": {},
   "outputs": [],
   "source": [
    "remote_job = wlb['remote_jobs']\n",
    "remote_job = remote_job.str.replace('%', '', regex=False)\n",
    "remote_job = remote_job.astype('float')\n",
    "wlb['remote_jobs'] = remote_job"
   ]
  },
  {
   "cell_type": "code",
   "execution_count": 9,
   "metadata": {},
   "outputs": [],
   "source": [
    "overwork = wlb['overworked_population']\n",
    "overwork = overwork.str.replace('%', '', regex=False)\n",
    "overwork = overwork.astype('float')\n",
    "wlb['overworked_population'] = overwork"
   ]
  },
  {
   "cell_type": "code",
   "execution_count": 10,
   "metadata": {},
   "outputs": [],
   "source": [
    "multi_jobs = wlb['multiple_jobholders']\n",
    "multi_jobs = multi_jobs.str.replace('%', '', regex=False)\n",
    "multi_jobs = multi_jobs.astype('float')\n",
    "wlb['multiple_jobholders'] = multi_jobs"
   ]
  },
  {
   "cell_type": "code",
   "execution_count": 11,
   "metadata": {},
   "outputs": [],
   "source": [
    "vacation_taken = wlb['vacations_taken_(days)']\n",
    "vacation_taken = vacation_taken.replace('-', '0', regex=False)\n",
    "vacation_taken = vacation_taken.astype('float')\n",
    "wlb['vacations_taken_(days)'] = vacation_taken"
   ]
  },
  {
   "cell_type": "code",
   "execution_count": 12,
   "metadata": {},
   "outputs": [],
   "source": [
    "parental_leave = wlb['paid_parental_leave_(days)']\n",
    "parental_leave = parental_leave.str.replace(',', '.', regex=False)\n",
    "parental_leave = parental_leave.astype('float')\n",
    "wlb['paid_parental_leave_(days)'] = parental_leave"
   ]
  },
  {
   "cell_type": "code",
   "execution_count": 13,
   "metadata": {},
   "outputs": [],
   "source": [
    "inflation_1 = wlb['inflation']\n",
    "inflation_1 = inflation_1.str.replace('%', '', regex=False)\n",
    "inflation_1 = inflation_1.astype('float')\n",
    "wlb['inflation'] = inflation_1"
   ]
  },
  {
   "cell_type": "code",
   "execution_count": 14,
   "metadata": {},
   "outputs": [],
   "source": [
    "wlb.drop(['2021', 'city'], axis=1, inplace=True)"
   ]
  },
  {
   "cell_type": "code",
   "execution_count": 15,
   "metadata": {},
   "outputs": [],
   "source": [
    "heart = pd.read_csv('heart_attack_prediction_dataset.csv', delimiter= ',')"
   ]
  },
  {
   "cell_type": "code",
   "execution_count": 16,
   "metadata": {},
   "outputs": [],
   "source": [
    "heart.columns = heart.columns.str.replace( ' ', '_').str.lower()"
   ]
  },
  {
   "cell_type": "code",
   "execution_count": 17,
   "metadata": {},
   "outputs": [],
   "source": [
    "heart.drop(['patient_id', 'continent', 'hemisphere', 'blood_pressure'], axis=1, inplace=True)"
   ]
  },
  {
   "cell_type": "code",
   "execution_count": 18,
   "metadata": {},
   "outputs": [],
   "source": [
    "merged_df = pd.merge( wlb, heart, on= 'country', how='left')"
   ]
  },
  {
   "cell_type": "code",
   "execution_count": 22,
   "metadata": {},
   "outputs": [
    {
     "name": "stdout",
     "output_type": "stream",
     "text": [
      "<class 'pandas.core.frame.DataFrame'>\n",
      "RangeIndex: 11825 entries, 0 to 11824\n",
      "Data columns (total 43 columns):\n",
      " #   Column                            Non-Null Count  Dtype  \n",
      "---  ------                            --------------  -----  \n",
      " 0   2022                              11825 non-null  int64  \n",
      " 1   country                           11825 non-null  object \n",
      " 2   remote_jobs                       11825 non-null  float64\n",
      " 3   overworked_population             11825 non-null  float64\n",
      " 4   minimum_vacations_offered_(days)  11825 non-null  int64  \n",
      " 5   vacations_taken_(days)            11825 non-null  float64\n",
      " 6   unemployment                      11825 non-null  float64\n",
      " 7   multiple_jobholders               11825 non-null  float64\n",
      " 8   inflation                         11825 non-null  float64\n",
      " 9   paid_parental_leave_(days)        11825 non-null  float64\n",
      " 10  covid_impact                      11825 non-null  float64\n",
      " 11  covid_support                     11825 non-null  float64\n",
      " 12  healthcare                        11825 non-null  float64\n",
      " 13  access_to_mental_healthcare       11825 non-null  float64\n",
      " 14  inclusivity_&_tolerance           11825 non-null  float64\n",
      " 15  affordability                     11825 non-null  float64\n",
      " 16  happiness,_culture_&_leisure      11825 non-null  float64\n",
      " 17  city_safety                       11825 non-null  float64\n",
      " 18  outdoor_spaces                    11825 non-null  float64\n",
      " 19  air_quality                       11825 non-null  float64\n",
      " 20  wellness_and_fitness              11825 non-null  float64\n",
      " 21  total_score                       11825 non-null  float64\n",
      " 22  age                               11751 non-null  float64\n",
      " 23  sex                               11751 non-null  object \n",
      " 24  cholesterol                       11751 non-null  float64\n",
      " 25  heart_rate                        11751 non-null  float64\n",
      " 26  diabetes                          11751 non-null  float64\n",
      " 27  family_history                    11751 non-null  float64\n",
      " 28  smoking                           11751 non-null  float64\n",
      " 29  obesity                           11751 non-null  float64\n",
      " 30  alcohol_consumption               11751 non-null  float64\n",
      " 31  exercise_hours_per_week           11751 non-null  float64\n",
      " 32  diet                              11751 non-null  object \n",
      " 33  previous_heart_problems           11751 non-null  float64\n",
      " 34  medication_use                    11751 non-null  float64\n",
      " 35  stress_level                      11751 non-null  float64\n",
      " 36  sedentary_hours_per_day           11751 non-null  float64\n",
      " 37  income                            11751 non-null  float64\n",
      " 38  bmi                               11751 non-null  float64\n",
      " 39  triglycerides                     11751 non-null  float64\n",
      " 40  physical_activity_days_per_week   11751 non-null  float64\n",
      " 41  sleep_hours_per_day               11751 non-null  float64\n",
      " 42  heart_attack_risk                 11751 non-null  float64\n",
      "dtypes: float64(38), int64(2), object(3)\n",
      "memory usage: 3.9+ MB\n"
     ]
    }
   ],
   "source": [
    "merged_df.info()"
   ]
  },
  {
   "cell_type": "code",
   "execution_count": 26,
   "metadata": {},
   "outputs": [],
   "source": [
    "merged_df.dropna(inplace=True)"
   ]
  },
  {
   "cell_type": "code",
   "execution_count": 25,
   "metadata": {},
   "outputs": [],
   "source": [
    "merged_df.isnull().sum()"
   ]
  },
  {
   "cell_type": "code",
   "execution_count": 21,
   "metadata": {},
   "outputs": [],
   "source": [
    "# Permanova steps\n",
    "# first grouping: categorical variables => Country(?), Sex and Diet\n",
    "\n",
    "group_cat = ['sex', 'diet', 'country']"
   ]
  },
  {
   "cell_type": "code",
   "execution_count": 28,
   "metadata": {},
   "outputs": [
    {
     "ename": "ValueError",
     "evalue": "Counts must be integers or floating-point numbers.",
     "output_type": "error",
     "traceback": [
      "\u001b[1;31m---------------------------------------------------------------------------\u001b[0m",
      "\u001b[1;31mValueError\u001b[0m                                Traceback (most recent call last)",
      "Cell \u001b[1;32mIn[28], line 1\u001b[0m\n\u001b[1;32m----> 1\u001b[0m dist_matrix \u001b[38;5;241m=\u001b[39m \u001b[43mbeta_diversity\u001b[49m\u001b[43m(\u001b[49m\u001b[38;5;124;43m'\u001b[39;49m\u001b[38;5;124;43mbraycurtis\u001b[39;49m\u001b[38;5;124;43m'\u001b[39;49m\u001b[43m,\u001b[49m\u001b[43m \u001b[49m\u001b[43mmerged_df\u001b[49m\u001b[38;5;241;43m.\u001b[39;49m\u001b[43mvalues\u001b[49m\u001b[43m,\u001b[49m\u001b[43m \u001b[49m\u001b[43mids\u001b[49m\u001b[38;5;241;43m=\u001b[39;49m\u001b[43mmerged_df\u001b[49m\u001b[38;5;241;43m.\u001b[39;49m\u001b[43mindex\u001b[49m\u001b[38;5;241;43m.\u001b[39;49m\u001b[43mastype\u001b[49m\u001b[43m(\u001b[49m\u001b[38;5;28;43mstr\u001b[39;49m\u001b[43m)\u001b[49m\u001b[43m)\u001b[49m\n",
      "File \u001b[1;32mc:\\Users\\gisac\\miniconda3\\envs\\nf_base\\lib\\site-packages\\skbio\\diversity\\_driver.py:434\u001b[0m, in \u001b[0;36mbeta_diversity\u001b[1;34m(metric, counts, ids, validate, pairwise_func, **kwargs)\u001b[0m\n\u001b[0;32m    431\u001b[0m     ids \u001b[38;5;241m=\u001b[39m \u001b[38;5;28mlist\u001b[39m(counts\u001b[38;5;241m.\u001b[39mindex)\n\u001b[0;32m    433\u001b[0m \u001b[38;5;28;01mif\u001b[39;00m validate:\n\u001b[1;32m--> 434\u001b[0m     counts \u001b[38;5;241m=\u001b[39m \u001b[43m_validate_counts_matrix\u001b[49m\u001b[43m(\u001b[49m\u001b[43mcounts\u001b[49m\u001b[43m,\u001b[49m\u001b[43m \u001b[49m\u001b[43mids\u001b[49m\u001b[38;5;241;43m=\u001b[39;49m\u001b[43mids\u001b[49m\u001b[43m)\u001b[49m\n\u001b[0;32m    436\u001b[0m \u001b[38;5;28;01mif\u001b[39;00m \u001b[38;5;241m0\u001b[39m \u001b[38;5;129;01min\u001b[39;00m counts\u001b[38;5;241m.\u001b[39mshape:\n\u001b[0;32m    437\u001b[0m     \u001b[38;5;66;03m# if the input counts are empty, return an empty DistanceMatrix.\u001b[39;00m\n\u001b[0;32m    438\u001b[0m     \u001b[38;5;66;03m# this check is not necessary for scipy.spatial.distance.pdist but\u001b[39;00m\n\u001b[0;32m    439\u001b[0m     \u001b[38;5;66;03m# it is necessary for sklearn.metrics.pairwise_distances where the\u001b[39;00m\n\u001b[0;32m    440\u001b[0m     \u001b[38;5;66;03m# latter raises an exception over empty data.\u001b[39;00m\n\u001b[0;32m    441\u001b[0m     \u001b[38;5;28;01mreturn\u001b[39;00m DistanceMatrix(np\u001b[38;5;241m.\u001b[39mzeros((\u001b[38;5;28mlen\u001b[39m(ids), \u001b[38;5;28mlen\u001b[39m(ids))), ids)\n",
      "File \u001b[1;32mc:\\Users\\gisac\\miniconda3\\envs\\nf_base\\lib\\site-packages\\skbio\\diversity\\_util.py:130\u001b[0m, in \u001b[0;36m_validate_counts_matrix\u001b[1;34m(counts, ids, cast_int)\u001b[0m\n\u001b[0;32m    127\u001b[0m         counts \u001b[38;5;241m=\u001b[39m counts\u001b[38;5;241m.\u001b[39mastype(\u001b[38;5;28mint\u001b[39m)\n\u001b[0;32m    129\u001b[0m \u001b[38;5;28;01melif\u001b[39;00m \u001b[38;5;129;01mnot\u001b[39;00m np\u001b[38;5;241m.\u001b[39missubdtype(dtype, np\u001b[38;5;241m.\u001b[39minteger) \u001b[38;5;129;01mand\u001b[39;00m dtype \u001b[38;5;129;01mis\u001b[39;00m \u001b[38;5;129;01mnot\u001b[39;00m np\u001b[38;5;241m.\u001b[39mdtype(\u001b[38;5;124m\"\u001b[39m\u001b[38;5;124mbool\u001b[39m\u001b[38;5;124m\"\u001b[39m):\n\u001b[1;32m--> 130\u001b[0m     \u001b[38;5;28;01mraise\u001b[39;00m \u001b[38;5;167;01mValueError\u001b[39;00m(\u001b[38;5;124m\"\u001b[39m\u001b[38;5;124mCounts must be integers or floating-point numbers.\u001b[39m\u001b[38;5;124m\"\u001b[39m)\n\u001b[0;32m    132\u001b[0m \u001b[38;5;66;03m# negative values are not allowed\u001b[39;00m\n\u001b[0;32m    133\u001b[0m \u001b[38;5;66;03m# TODO: `counts < 0` creates a Boolean array of the same shape, which could be\u001b[39;00m\n\u001b[0;32m    134\u001b[0m \u001b[38;5;66;03m# memory-inefficient if the input array is very large. Should optimize.\u001b[39;00m\n\u001b[0;32m    135\u001b[0m \u001b[38;5;66;03m# See: https://stackoverflow.com/questions/75553212/\u001b[39;00m\n\u001b[0;32m    136\u001b[0m \u001b[38;5;28;01mif\u001b[39;00m (counts \u001b[38;5;241m<\u001b[39m \u001b[38;5;241m0\u001b[39m)\u001b[38;5;241m.\u001b[39many():\n",
      "\u001b[1;31mValueError\u001b[0m: Counts must be integers or floating-point numbers."
     ]
    }
   ],
   "source": [
    "dist_matrix = beta_diversity('braycurtis', merged_df.values, ids=merged_df.index.astype(str))"
   ]
  }
 ],
 "metadata": {
  "kernelspec": {
   "display_name": "nf_base",
   "language": "python",
   "name": "python3"
  },
  "language_info": {
   "codemirror_mode": {
    "name": "ipython",
    "version": 3
   },
   "file_extension": ".py",
   "mimetype": "text/x-python",
   "name": "python",
   "nbconvert_exporter": "python",
   "pygments_lexer": "ipython3",
   "version": "3.8.19"
  }
 },
 "nbformat": 4,
 "nbformat_minor": 2
}
