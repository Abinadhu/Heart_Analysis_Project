{
 "cells": [
  {
   "cell_type": "code",
   "execution_count": 134,
   "metadata": {},
   "outputs": [],
   "source": [
    "import pandas as pd\n",
    "import matplotlib.pyplot as plt\n",
    "import seaborn as sns\n",
    "import numpy as np\n",
    "import psycopg2 # needed to get database exception errors when uploading dataframe\n",
    "import requests # package for getting data from the web\n",
    "from scipy.stats import ttest_ind # statical test ttest and p test\n",
    "from scipy.stats import pearsonr\n",
    "from sklearn.linear_model import LogisticRegression\n",
    "from sklearn.preprocessing import StandardScaler\n",
    "from sklearn.metrics import roc_curve, roc_auc_score\n",
    "import statsmodels.api as sm\n",
    "import scipy.stats as stats\n",
    "from scipy.stats import chi2_contingency\n",
    "\n",
    "\n"
   ]
  },
  {
   "cell_type": "code",
   "execution_count": 135,
   "metadata": {},
   "outputs": [
    {
     "data": {
      "text/html": [
       "<div>\n",
       "<style scoped>\n",
       "    .dataframe tbody tr th:only-of-type {\n",
       "        vertical-align: middle;\n",
       "    }\n",
       "\n",
       "    .dataframe tbody tr th {\n",
       "        vertical-align: top;\n",
       "    }\n",
       "\n",
       "    .dataframe thead th {\n",
       "        text-align: right;\n",
       "    }\n",
       "</style>\n",
       "<table border=\"1\" class=\"dataframe\">\n",
       "  <thead>\n",
       "    <tr style=\"text-align: right;\">\n",
       "      <th></th>\n",
       "      <th>Patient ID</th>\n",
       "      <th>Age</th>\n",
       "      <th>Sex</th>\n",
       "      <th>Cholesterol</th>\n",
       "      <th>Blood Pressure</th>\n",
       "      <th>Heart Rate</th>\n",
       "      <th>Diabetes</th>\n",
       "      <th>Family History</th>\n",
       "      <th>Smoking</th>\n",
       "      <th>Obesity</th>\n",
       "      <th>...</th>\n",
       "      <th>Sedentary Hours Per Day</th>\n",
       "      <th>Income</th>\n",
       "      <th>BMI</th>\n",
       "      <th>Triglycerides</th>\n",
       "      <th>Physical Activity Days Per Week</th>\n",
       "      <th>Sleep Hours Per Day</th>\n",
       "      <th>Country</th>\n",
       "      <th>Continent</th>\n",
       "      <th>Hemisphere</th>\n",
       "      <th>Heart Attack Risk</th>\n",
       "    </tr>\n",
       "  </thead>\n",
       "  <tbody>\n",
       "    <tr>\n",
       "      <th>0</th>\n",
       "      <td>BMW7812</td>\n",
       "      <td>67</td>\n",
       "      <td>Male</td>\n",
       "      <td>208</td>\n",
       "      <td>158/88</td>\n",
       "      <td>72</td>\n",
       "      <td>0</td>\n",
       "      <td>0</td>\n",
       "      <td>1</td>\n",
       "      <td>0</td>\n",
       "      <td>...</td>\n",
       "      <td>6.615001</td>\n",
       "      <td>261404</td>\n",
       "      <td>31.251233</td>\n",
       "      <td>286</td>\n",
       "      <td>0</td>\n",
       "      <td>6</td>\n",
       "      <td>Argentina</td>\n",
       "      <td>South America</td>\n",
       "      <td>Southern Hemisphere</td>\n",
       "      <td>0</td>\n",
       "    </tr>\n",
       "    <tr>\n",
       "      <th>1</th>\n",
       "      <td>CZE1114</td>\n",
       "      <td>21</td>\n",
       "      <td>Male</td>\n",
       "      <td>389</td>\n",
       "      <td>165/93</td>\n",
       "      <td>98</td>\n",
       "      <td>1</td>\n",
       "      <td>1</td>\n",
       "      <td>1</td>\n",
       "      <td>1</td>\n",
       "      <td>...</td>\n",
       "      <td>4.963459</td>\n",
       "      <td>285768</td>\n",
       "      <td>27.194973</td>\n",
       "      <td>235</td>\n",
       "      <td>1</td>\n",
       "      <td>7</td>\n",
       "      <td>Canada</td>\n",
       "      <td>North America</td>\n",
       "      <td>Northern Hemisphere</td>\n",
       "      <td>0</td>\n",
       "    </tr>\n",
       "    <tr>\n",
       "      <th>2</th>\n",
       "      <td>BNI9906</td>\n",
       "      <td>21</td>\n",
       "      <td>Female</td>\n",
       "      <td>324</td>\n",
       "      <td>174/99</td>\n",
       "      <td>72</td>\n",
       "      <td>1</td>\n",
       "      <td>0</td>\n",
       "      <td>0</td>\n",
       "      <td>0</td>\n",
       "      <td>...</td>\n",
       "      <td>9.463426</td>\n",
       "      <td>235282</td>\n",
       "      <td>28.176571</td>\n",
       "      <td>587</td>\n",
       "      <td>4</td>\n",
       "      <td>4</td>\n",
       "      <td>France</td>\n",
       "      <td>Europe</td>\n",
       "      <td>Northern Hemisphere</td>\n",
       "      <td>0</td>\n",
       "    </tr>\n",
       "    <tr>\n",
       "      <th>3</th>\n",
       "      <td>JLN3497</td>\n",
       "      <td>84</td>\n",
       "      <td>Male</td>\n",
       "      <td>383</td>\n",
       "      <td>163/100</td>\n",
       "      <td>73</td>\n",
       "      <td>1</td>\n",
       "      <td>1</td>\n",
       "      <td>1</td>\n",
       "      <td>0</td>\n",
       "      <td>...</td>\n",
       "      <td>7.648981</td>\n",
       "      <td>125640</td>\n",
       "      <td>36.464704</td>\n",
       "      <td>378</td>\n",
       "      <td>3</td>\n",
       "      <td>4</td>\n",
       "      <td>Canada</td>\n",
       "      <td>North America</td>\n",
       "      <td>Northern Hemisphere</td>\n",
       "      <td>0</td>\n",
       "    </tr>\n",
       "    <tr>\n",
       "      <th>4</th>\n",
       "      <td>GFO8847</td>\n",
       "      <td>66</td>\n",
       "      <td>Male</td>\n",
       "      <td>318</td>\n",
       "      <td>91/88</td>\n",
       "      <td>93</td>\n",
       "      <td>1</td>\n",
       "      <td>1</td>\n",
       "      <td>1</td>\n",
       "      <td>1</td>\n",
       "      <td>...</td>\n",
       "      <td>1.514821</td>\n",
       "      <td>160555</td>\n",
       "      <td>21.809144</td>\n",
       "      <td>231</td>\n",
       "      <td>1</td>\n",
       "      <td>5</td>\n",
       "      <td>Thailand</td>\n",
       "      <td>Asia</td>\n",
       "      <td>Northern Hemisphere</td>\n",
       "      <td>0</td>\n",
       "    </tr>\n",
       "  </tbody>\n",
       "</table>\n",
       "<p>5 rows × 26 columns</p>\n",
       "</div>"
      ],
      "text/plain": [
       "  Patient ID  Age     Sex  Cholesterol Blood Pressure  Heart Rate  Diabetes  \\\n",
       "0    BMW7812   67    Male          208         158/88          72         0   \n",
       "1    CZE1114   21    Male          389         165/93          98         1   \n",
       "2    BNI9906   21  Female          324         174/99          72         1   \n",
       "3    JLN3497   84    Male          383        163/100          73         1   \n",
       "4    GFO8847   66    Male          318          91/88          93         1   \n",
       "\n",
       "   Family History  Smoking  Obesity  ...  Sedentary Hours Per Day  Income  \\\n",
       "0               0        1        0  ...                 6.615001  261404   \n",
       "1               1        1        1  ...                 4.963459  285768   \n",
       "2               0        0        0  ...                 9.463426  235282   \n",
       "3               1        1        0  ...                 7.648981  125640   \n",
       "4               1        1        1  ...                 1.514821  160555   \n",
       "\n",
       "         BMI  Triglycerides  Physical Activity Days Per Week  \\\n",
       "0  31.251233            286                                0   \n",
       "1  27.194973            235                                1   \n",
       "2  28.176571            587                                4   \n",
       "3  36.464704            378                                3   \n",
       "4  21.809144            231                                1   \n",
       "\n",
       "   Sleep Hours Per Day    Country      Continent           Hemisphere  \\\n",
       "0                    6  Argentina  South America  Southern Hemisphere   \n",
       "1                    7     Canada  North America  Northern Hemisphere   \n",
       "2                    4     France         Europe  Northern Hemisphere   \n",
       "3                    4     Canada  North America  Northern Hemisphere   \n",
       "4                    5   Thailand           Asia  Northern Hemisphere   \n",
       "\n",
       "   Heart Attack Risk  \n",
       "0                  0  \n",
       "1                  0  \n",
       "2                  0  \n",
       "3                  0  \n",
       "4                  0  \n",
       "\n",
       "[5 rows x 26 columns]"
      ]
     },
     "execution_count": 135,
     "metadata": {},
     "output_type": "execute_result"
    }
   ],
   "source": [
    "heart = pd.read_csv(\"data/heart_attack.csv\")\n",
    "heart.head()"
   ]
  },
  {
   "cell_type": "code",
   "execution_count": 136,
   "metadata": {},
   "outputs": [
    {
     "data": {
      "text/html": [
       "<div>\n",
       "<style scoped>\n",
       "    .dataframe tbody tr th:only-of-type {\n",
       "        vertical-align: middle;\n",
       "    }\n",
       "\n",
       "    .dataframe tbody tr th {\n",
       "        vertical-align: top;\n",
       "    }\n",
       "\n",
       "    .dataframe thead th {\n",
       "        text-align: right;\n",
       "    }\n",
       "</style>\n",
       "<table border=\"1\" class=\"dataframe\">\n",
       "  <thead>\n",
       "    <tr style=\"text-align: right;\">\n",
       "      <th></th>\n",
       "      <th>Patient ID</th>\n",
       "      <th>Age</th>\n",
       "      <th>Sex</th>\n",
       "      <th>Cholesterol</th>\n",
       "      <th>Blood Pressure</th>\n",
       "      <th>Heart Rate</th>\n",
       "      <th>Diabetes</th>\n",
       "      <th>Family History</th>\n",
       "      <th>Smoking</th>\n",
       "      <th>Obesity</th>\n",
       "      <th>...</th>\n",
       "      <th>Sedentary Hours Per Day</th>\n",
       "      <th>Income</th>\n",
       "      <th>BMI</th>\n",
       "      <th>Triglycerides</th>\n",
       "      <th>Physical Activity Days Per Week</th>\n",
       "      <th>Sleep Hours Per Day</th>\n",
       "      <th>Country</th>\n",
       "      <th>Continent</th>\n",
       "      <th>Hemisphere</th>\n",
       "      <th>Heart Attack Risk</th>\n",
       "    </tr>\n",
       "  </thead>\n",
       "  <tbody>\n",
       "    <tr>\n",
       "      <th>0</th>\n",
       "      <td>BMW7812</td>\n",
       "      <td>67</td>\n",
       "      <td>Male</td>\n",
       "      <td>208</td>\n",
       "      <td>158/88</td>\n",
       "      <td>72</td>\n",
       "      <td>0</td>\n",
       "      <td>0</td>\n",
       "      <td>1</td>\n",
       "      <td>0</td>\n",
       "      <td>...</td>\n",
       "      <td>6.615001</td>\n",
       "      <td>261404</td>\n",
       "      <td>31.251233</td>\n",
       "      <td>286</td>\n",
       "      <td>0</td>\n",
       "      <td>6</td>\n",
       "      <td>Argentina</td>\n",
       "      <td>South America</td>\n",
       "      <td>Southern Hemisphere</td>\n",
       "      <td>0</td>\n",
       "    </tr>\n",
       "    <tr>\n",
       "      <th>1</th>\n",
       "      <td>CZE1114</td>\n",
       "      <td>21</td>\n",
       "      <td>Male</td>\n",
       "      <td>389</td>\n",
       "      <td>165/93</td>\n",
       "      <td>98</td>\n",
       "      <td>1</td>\n",
       "      <td>1</td>\n",
       "      <td>1</td>\n",
       "      <td>1</td>\n",
       "      <td>...</td>\n",
       "      <td>4.963459</td>\n",
       "      <td>285768</td>\n",
       "      <td>27.194973</td>\n",
       "      <td>235</td>\n",
       "      <td>1</td>\n",
       "      <td>7</td>\n",
       "      <td>Canada</td>\n",
       "      <td>North America</td>\n",
       "      <td>Northern Hemisphere</td>\n",
       "      <td>0</td>\n",
       "    </tr>\n",
       "    <tr>\n",
       "      <th>2</th>\n",
       "      <td>BNI9906</td>\n",
       "      <td>21</td>\n",
       "      <td>Female</td>\n",
       "      <td>324</td>\n",
       "      <td>174/99</td>\n",
       "      <td>72</td>\n",
       "      <td>1</td>\n",
       "      <td>0</td>\n",
       "      <td>0</td>\n",
       "      <td>0</td>\n",
       "      <td>...</td>\n",
       "      <td>9.463426</td>\n",
       "      <td>235282</td>\n",
       "      <td>28.176571</td>\n",
       "      <td>587</td>\n",
       "      <td>4</td>\n",
       "      <td>4</td>\n",
       "      <td>France</td>\n",
       "      <td>Europe</td>\n",
       "      <td>Northern Hemisphere</td>\n",
       "      <td>0</td>\n",
       "    </tr>\n",
       "    <tr>\n",
       "      <th>3</th>\n",
       "      <td>JLN3497</td>\n",
       "      <td>84</td>\n",
       "      <td>Male</td>\n",
       "      <td>383</td>\n",
       "      <td>163/100</td>\n",
       "      <td>73</td>\n",
       "      <td>1</td>\n",
       "      <td>1</td>\n",
       "      <td>1</td>\n",
       "      <td>0</td>\n",
       "      <td>...</td>\n",
       "      <td>7.648981</td>\n",
       "      <td>125640</td>\n",
       "      <td>36.464704</td>\n",
       "      <td>378</td>\n",
       "      <td>3</td>\n",
       "      <td>4</td>\n",
       "      <td>Canada</td>\n",
       "      <td>North America</td>\n",
       "      <td>Northern Hemisphere</td>\n",
       "      <td>0</td>\n",
       "    </tr>\n",
       "    <tr>\n",
       "      <th>4</th>\n",
       "      <td>GFO8847</td>\n",
       "      <td>66</td>\n",
       "      <td>Male</td>\n",
       "      <td>318</td>\n",
       "      <td>91/88</td>\n",
       "      <td>93</td>\n",
       "      <td>1</td>\n",
       "      <td>1</td>\n",
       "      <td>1</td>\n",
       "      <td>1</td>\n",
       "      <td>...</td>\n",
       "      <td>1.514821</td>\n",
       "      <td>160555</td>\n",
       "      <td>21.809144</td>\n",
       "      <td>231</td>\n",
       "      <td>1</td>\n",
       "      <td>5</td>\n",
       "      <td>Thailand</td>\n",
       "      <td>Asia</td>\n",
       "      <td>Northern Hemisphere</td>\n",
       "      <td>0</td>\n",
       "    </tr>\n",
       "    <tr>\n",
       "      <th>...</th>\n",
       "      <td>...</td>\n",
       "      <td>...</td>\n",
       "      <td>...</td>\n",
       "      <td>...</td>\n",
       "      <td>...</td>\n",
       "      <td>...</td>\n",
       "      <td>...</td>\n",
       "      <td>...</td>\n",
       "      <td>...</td>\n",
       "      <td>...</td>\n",
       "      <td>...</td>\n",
       "      <td>...</td>\n",
       "      <td>...</td>\n",
       "      <td>...</td>\n",
       "      <td>...</td>\n",
       "      <td>...</td>\n",
       "      <td>...</td>\n",
       "      <td>...</td>\n",
       "      <td>...</td>\n",
       "      <td>...</td>\n",
       "      <td>...</td>\n",
       "    </tr>\n",
       "    <tr>\n",
       "      <th>8758</th>\n",
       "      <td>MSV9918</td>\n",
       "      <td>60</td>\n",
       "      <td>Male</td>\n",
       "      <td>121</td>\n",
       "      <td>94/76</td>\n",
       "      <td>61</td>\n",
       "      <td>1</td>\n",
       "      <td>1</td>\n",
       "      <td>1</td>\n",
       "      <td>0</td>\n",
       "      <td>...</td>\n",
       "      <td>10.806373</td>\n",
       "      <td>235420</td>\n",
       "      <td>19.655895</td>\n",
       "      <td>67</td>\n",
       "      <td>7</td>\n",
       "      <td>7</td>\n",
       "      <td>Thailand</td>\n",
       "      <td>Asia</td>\n",
       "      <td>Northern Hemisphere</td>\n",
       "      <td>0</td>\n",
       "    </tr>\n",
       "    <tr>\n",
       "      <th>8759</th>\n",
       "      <td>QSV6764</td>\n",
       "      <td>28</td>\n",
       "      <td>Female</td>\n",
       "      <td>120</td>\n",
       "      <td>157/102</td>\n",
       "      <td>73</td>\n",
       "      <td>1</td>\n",
       "      <td>0</td>\n",
       "      <td>0</td>\n",
       "      <td>1</td>\n",
       "      <td>...</td>\n",
       "      <td>3.833038</td>\n",
       "      <td>217881</td>\n",
       "      <td>23.993866</td>\n",
       "      <td>617</td>\n",
       "      <td>4</td>\n",
       "      <td>9</td>\n",
       "      <td>Canada</td>\n",
       "      <td>North America</td>\n",
       "      <td>Northern Hemisphere</td>\n",
       "      <td>0</td>\n",
       "    </tr>\n",
       "    <tr>\n",
       "      <th>8760</th>\n",
       "      <td>XKA5925</td>\n",
       "      <td>47</td>\n",
       "      <td>Male</td>\n",
       "      <td>250</td>\n",
       "      <td>161/75</td>\n",
       "      <td>105</td>\n",
       "      <td>0</td>\n",
       "      <td>1</td>\n",
       "      <td>1</td>\n",
       "      <td>1</td>\n",
       "      <td>...</td>\n",
       "      <td>2.375214</td>\n",
       "      <td>36998</td>\n",
       "      <td>35.406146</td>\n",
       "      <td>527</td>\n",
       "      <td>4</td>\n",
       "      <td>4</td>\n",
       "      <td>Brazil</td>\n",
       "      <td>South America</td>\n",
       "      <td>Southern Hemisphere</td>\n",
       "      <td>1</td>\n",
       "    </tr>\n",
       "    <tr>\n",
       "      <th>8761</th>\n",
       "      <td>EPE6801</td>\n",
       "      <td>36</td>\n",
       "      <td>Male</td>\n",
       "      <td>178</td>\n",
       "      <td>119/67</td>\n",
       "      <td>60</td>\n",
       "      <td>1</td>\n",
       "      <td>0</td>\n",
       "      <td>1</td>\n",
       "      <td>0</td>\n",
       "      <td>...</td>\n",
       "      <td>0.029104</td>\n",
       "      <td>209943</td>\n",
       "      <td>27.294020</td>\n",
       "      <td>114</td>\n",
       "      <td>2</td>\n",
       "      <td>8</td>\n",
       "      <td>Brazil</td>\n",
       "      <td>South America</td>\n",
       "      <td>Southern Hemisphere</td>\n",
       "      <td>0</td>\n",
       "    </tr>\n",
       "    <tr>\n",
       "      <th>8762</th>\n",
       "      <td>ZWN9666</td>\n",
       "      <td>25</td>\n",
       "      <td>Female</td>\n",
       "      <td>356</td>\n",
       "      <td>138/67</td>\n",
       "      <td>75</td>\n",
       "      <td>1</td>\n",
       "      <td>1</td>\n",
       "      <td>0</td>\n",
       "      <td>0</td>\n",
       "      <td>...</td>\n",
       "      <td>9.005234</td>\n",
       "      <td>247338</td>\n",
       "      <td>32.914151</td>\n",
       "      <td>180</td>\n",
       "      <td>7</td>\n",
       "      <td>4</td>\n",
       "      <td>United Kingdom</td>\n",
       "      <td>Europe</td>\n",
       "      <td>Northern Hemisphere</td>\n",
       "      <td>1</td>\n",
       "    </tr>\n",
       "  </tbody>\n",
       "</table>\n",
       "<p>8763 rows × 26 columns</p>\n",
       "</div>"
      ],
      "text/plain": [
       "     Patient ID  Age     Sex  Cholesterol Blood Pressure  Heart Rate  \\\n",
       "0       BMW7812   67    Male          208         158/88          72   \n",
       "1       CZE1114   21    Male          389         165/93          98   \n",
       "2       BNI9906   21  Female          324         174/99          72   \n",
       "3       JLN3497   84    Male          383        163/100          73   \n",
       "4       GFO8847   66    Male          318          91/88          93   \n",
       "...         ...  ...     ...          ...            ...         ...   \n",
       "8758    MSV9918   60    Male          121          94/76          61   \n",
       "8759    QSV6764   28  Female          120        157/102          73   \n",
       "8760    XKA5925   47    Male          250         161/75         105   \n",
       "8761    EPE6801   36    Male          178         119/67          60   \n",
       "8762    ZWN9666   25  Female          356         138/67          75   \n",
       "\n",
       "      Diabetes  Family History  Smoking  Obesity  ...  \\\n",
       "0            0               0        1        0  ...   \n",
       "1            1               1        1        1  ...   \n",
       "2            1               0        0        0  ...   \n",
       "3            1               1        1        0  ...   \n",
       "4            1               1        1        1  ...   \n",
       "...        ...             ...      ...      ...  ...   \n",
       "8758         1               1        1        0  ...   \n",
       "8759         1               0        0        1  ...   \n",
       "8760         0               1        1        1  ...   \n",
       "8761         1               0        1        0  ...   \n",
       "8762         1               1        0        0  ...   \n",
       "\n",
       "      Sedentary Hours Per Day  Income        BMI  Triglycerides  \\\n",
       "0                    6.615001  261404  31.251233            286   \n",
       "1                    4.963459  285768  27.194973            235   \n",
       "2                    9.463426  235282  28.176571            587   \n",
       "3                    7.648981  125640  36.464704            378   \n",
       "4                    1.514821  160555  21.809144            231   \n",
       "...                       ...     ...        ...            ...   \n",
       "8758                10.806373  235420  19.655895             67   \n",
       "8759                 3.833038  217881  23.993866            617   \n",
       "8760                 2.375214   36998  35.406146            527   \n",
       "8761                 0.029104  209943  27.294020            114   \n",
       "8762                 9.005234  247338  32.914151            180   \n",
       "\n",
       "      Physical Activity Days Per Week  Sleep Hours Per Day         Country  \\\n",
       "0                                   0                    6       Argentina   \n",
       "1                                   1                    7          Canada   \n",
       "2                                   4                    4          France   \n",
       "3                                   3                    4          Canada   \n",
       "4                                   1                    5        Thailand   \n",
       "...                               ...                  ...             ...   \n",
       "8758                                7                    7        Thailand   \n",
       "8759                                4                    9          Canada   \n",
       "8760                                4                    4          Brazil   \n",
       "8761                                2                    8          Brazil   \n",
       "8762                                7                    4  United Kingdom   \n",
       "\n",
       "          Continent           Hemisphere  Heart Attack Risk  \n",
       "0     South America  Southern Hemisphere                  0  \n",
       "1     North America  Northern Hemisphere                  0  \n",
       "2            Europe  Northern Hemisphere                  0  \n",
       "3     North America  Northern Hemisphere                  0  \n",
       "4              Asia  Northern Hemisphere                  0  \n",
       "...             ...                  ...                ...  \n",
       "8758           Asia  Northern Hemisphere                  0  \n",
       "8759  North America  Northern Hemisphere                  0  \n",
       "8760  South America  Southern Hemisphere                  1  \n",
       "8761  South America  Southern Hemisphere                  0  \n",
       "8762         Europe  Northern Hemisphere                  1  \n",
       "\n",
       "[8763 rows x 26 columns]"
      ]
     },
     "execution_count": 136,
     "metadata": {},
     "output_type": "execute_result"
    }
   ],
   "source": [
    "heart"
   ]
  },
  {
   "cell_type": "code",
   "execution_count": 137,
   "metadata": {},
   "outputs": [],
   "source": [
    "heart.columns = heart.columns.str.lower().str.replace(' ','_')\n"
   ]
  },
  {
   "cell_type": "code",
   "execution_count": 138,
   "metadata": {},
   "outputs": [
    {
     "data": {
      "text/html": [
       "<div>\n",
       "<style scoped>\n",
       "    .dataframe tbody tr th:only-of-type {\n",
       "        vertical-align: middle;\n",
       "    }\n",
       "\n",
       "    .dataframe tbody tr th {\n",
       "        vertical-align: top;\n",
       "    }\n",
       "\n",
       "    .dataframe thead th {\n",
       "        text-align: right;\n",
       "    }\n",
       "</style>\n",
       "<table border=\"1\" class=\"dataframe\">\n",
       "  <thead>\n",
       "    <tr style=\"text-align: right;\">\n",
       "      <th></th>\n",
       "      <th>2022</th>\n",
       "      <th>2021</th>\n",
       "      <th>City</th>\n",
       "      <th>Country</th>\n",
       "      <th>Remote Jobs</th>\n",
       "      <th>Overworked Population</th>\n",
       "      <th>Minimum Vacations Offered (Days)</th>\n",
       "      <th>Vacations Taken (Days)</th>\n",
       "      <th>Unemployment</th>\n",
       "      <th>Multiple Jobholders</th>\n",
       "      <th>...</th>\n",
       "      <th>Healthcare</th>\n",
       "      <th>Access to Mental Healthcare</th>\n",
       "      <th>Inclusivity &amp; Tolerance</th>\n",
       "      <th>Affordability</th>\n",
       "      <th>Happiness, Culture &amp; Leisure</th>\n",
       "      <th>City Safety</th>\n",
       "      <th>Outdoor Spaces</th>\n",
       "      <th>Air Quality</th>\n",
       "      <th>Wellness and Fitness</th>\n",
       "      <th>TOTAL SCORE</th>\n",
       "    </tr>\n",
       "  </thead>\n",
       "  <tbody>\n",
       "    <tr>\n",
       "      <th>0</th>\n",
       "      <td>1</td>\n",
       "      <td>2</td>\n",
       "      <td>Oslo</td>\n",
       "      <td>Norway</td>\n",
       "      <td>41.72%</td>\n",
       "      <td>11.20%</td>\n",
       "      <td>25</td>\n",
       "      <td>25</td>\n",
       "      <td>94.7</td>\n",
       "      <td>9.10%</td>\n",
       "      <td>...</td>\n",
       "      <td>100.0</td>\n",
       "      <td>85.0</td>\n",
       "      <td>93.2</td>\n",
       "      <td>59.4</td>\n",
       "      <td>88.8</td>\n",
       "      <td>86.5</td>\n",
       "      <td>95.6</td>\n",
       "      <td>97.5</td>\n",
       "      <td>65.7</td>\n",
       "      <td>100.00</td>\n",
       "    </tr>\n",
       "    <tr>\n",
       "      <th>1</th>\n",
       "      <td>2</td>\n",
       "      <td>-</td>\n",
       "      <td>Bern</td>\n",
       "      <td>Switzerland</td>\n",
       "      <td>44.86%</td>\n",
       "      <td>11.40%</td>\n",
       "      <td>20</td>\n",
       "      <td>25</td>\n",
       "      <td>99.8</td>\n",
       "      <td>7.60%</td>\n",
       "      <td>...</td>\n",
       "      <td>99.6</td>\n",
       "      <td>78.6</td>\n",
       "      <td>94.6</td>\n",
       "      <td>69.9</td>\n",
       "      <td>100.0</td>\n",
       "      <td>91.8</td>\n",
       "      <td>87.1</td>\n",
       "      <td>100.0</td>\n",
       "      <td>69.1</td>\n",
       "      <td>99.46</td>\n",
       "    </tr>\n",
       "    <tr>\n",
       "      <th>2</th>\n",
       "      <td>3</td>\n",
       "      <td>1</td>\n",
       "      <td>Helsinki</td>\n",
       "      <td>Finland</td>\n",
       "      <td>38.92%</td>\n",
       "      <td>12.70%</td>\n",
       "      <td>25</td>\n",
       "      <td>30</td>\n",
       "      <td>89.3</td>\n",
       "      <td>6.30%</td>\n",
       "      <td>...</td>\n",
       "      <td>96.7</td>\n",
       "      <td>73.0</td>\n",
       "      <td>93.9</td>\n",
       "      <td>65.0</td>\n",
       "      <td>96.3</td>\n",
       "      <td>94.9</td>\n",
       "      <td>86.0</td>\n",
       "      <td>97.0</td>\n",
       "      <td>68.3</td>\n",
       "      <td>99.24</td>\n",
       "    </tr>\n",
       "    <tr>\n",
       "      <th>3</th>\n",
       "      <td>4</td>\n",
       "      <td>3</td>\n",
       "      <td>Zurich</td>\n",
       "      <td>Switzerland</td>\n",
       "      <td>44.86%</td>\n",
       "      <td>11.90%</td>\n",
       "      <td>20</td>\n",
       "      <td>25</td>\n",
       "      <td>99.2</td>\n",
       "      <td>7.60%</td>\n",
       "      <td>...</td>\n",
       "      <td>99.2</td>\n",
       "      <td>78.6</td>\n",
       "      <td>87.5</td>\n",
       "      <td>71.6</td>\n",
       "      <td>91.5</td>\n",
       "      <td>92.8</td>\n",
       "      <td>84.0</td>\n",
       "      <td>96.2</td>\n",
       "      <td>68.7</td>\n",
       "      <td>96.33</td>\n",
       "    </tr>\n",
       "    <tr>\n",
       "      <th>4</th>\n",
       "      <td>5</td>\n",
       "      <td>5</td>\n",
       "      <td>Copenhagen</td>\n",
       "      <td>Denmark</td>\n",
       "      <td>41.42%</td>\n",
       "      <td>10.50%</td>\n",
       "      <td>25</td>\n",
       "      <td>28</td>\n",
       "      <td>94.8</td>\n",
       "      <td>7.60%</td>\n",
       "      <td>...</td>\n",
       "      <td>94.8</td>\n",
       "      <td>77.6</td>\n",
       "      <td>95.2</td>\n",
       "      <td>65.3</td>\n",
       "      <td>92.5</td>\n",
       "      <td>95.7</td>\n",
       "      <td>75.5</td>\n",
       "      <td>95.1</td>\n",
       "      <td>66.3</td>\n",
       "      <td>96.21</td>\n",
       "    </tr>\n",
       "  </tbody>\n",
       "</table>\n",
       "<p>5 rows × 24 columns</p>\n",
       "</div>"
      ],
      "text/plain": [
       "   2022 2021        City      Country Remote Jobs Overworked Population  \\\n",
       "0     1    2        Oslo       Norway      41.72%                11.20%   \n",
       "1     2    -        Bern  Switzerland      44.86%                11.40%   \n",
       "2     3    1    Helsinki      Finland      38.92%                12.70%   \n",
       "3     4    3      Zurich  Switzerland      44.86%                11.90%   \n",
       "4     5    5  Copenhagen      Denmark      41.42%                10.50%   \n",
       "\n",
       "   Minimum Vacations Offered (Days) Vacations Taken (Days)  Unemployment  \\\n",
       "0                                25                     25          94.7   \n",
       "1                                20                     25          99.8   \n",
       "2                                25                     30          89.3   \n",
       "3                                20                     25          99.2   \n",
       "4                                25                     28          94.8   \n",
       "\n",
       "  Multiple Jobholders  ... Healthcare Access to Mental Healthcare  \\\n",
       "0               9.10%  ...      100.0                        85.0   \n",
       "1               7.60%  ...       99.6                        78.6   \n",
       "2               6.30%  ...       96.7                        73.0   \n",
       "3               7.60%  ...       99.2                        78.6   \n",
       "4               7.60%  ...       94.8                        77.6   \n",
       "\n",
       "   Inclusivity & Tolerance  Affordability  Happiness, Culture & Leisure  \\\n",
       "0                     93.2           59.4                          88.8   \n",
       "1                     94.6           69.9                         100.0   \n",
       "2                     93.9           65.0                          96.3   \n",
       "3                     87.5           71.6                          91.5   \n",
       "4                     95.2           65.3                          92.5   \n",
       "\n",
       "   City Safety  Outdoor Spaces  Air Quality  Wellness and Fitness  TOTAL SCORE  \n",
       "0         86.5            95.6         97.5                  65.7       100.00  \n",
       "1         91.8            87.1        100.0                  69.1        99.46  \n",
       "2         94.9            86.0         97.0                  68.3        99.24  \n",
       "3         92.8            84.0         96.2                  68.7        96.33  \n",
       "4         95.7            75.5         95.1                  66.3        96.21  \n",
       "\n",
       "[5 rows x 24 columns]"
      ]
     },
     "execution_count": 138,
     "metadata": {},
     "output_type": "execute_result"
    }
   ],
   "source": [
    "wlb = pd.read_csv(\"data/work_life_balance.csv\")\n",
    "wlb.head()"
   ]
  },
  {
   "cell_type": "code",
   "execution_count": 139,
   "metadata": {},
   "outputs": [],
   "source": [
    "wlb.columns = wlb.columns.str.lower().str.replace(' ','_')"
   ]
  },
  {
   "cell_type": "code",
   "execution_count": 140,
   "metadata": {},
   "outputs": [],
   "source": [
    "df_heart_wlb = heart.merge(wlb, how = 'right', on = 'country')"
   ]
  },
  {
   "cell_type": "code",
   "execution_count": 141,
   "metadata": {},
   "outputs": [
    {
     "name": "stdout",
     "output_type": "stream",
     "text": [
      "<class 'pandas.core.frame.DataFrame'>\n",
      "RangeIndex: 11825 entries, 0 to 11824\n",
      "Data columns (total 49 columns):\n",
      " #   Column                            Non-Null Count  Dtype  \n",
      "---  ------                            --------------  -----  \n",
      " 0   patient_id                        11751 non-null  object \n",
      " 1   age                               11751 non-null  float64\n",
      " 2   sex                               11751 non-null  object \n",
      " 3   cholesterol                       11751 non-null  float64\n",
      " 4   blood_pressure                    11751 non-null  object \n",
      " 5   heart_rate                        11751 non-null  float64\n",
      " 6   diabetes                          11751 non-null  float64\n",
      " 7   family_history                    11751 non-null  float64\n",
      " 8   smoking                           11751 non-null  float64\n",
      " 9   obesity                           11751 non-null  float64\n",
      " 10  alcohol_consumption               11751 non-null  float64\n",
      " 11  exercise_hours_per_week           11751 non-null  float64\n",
      " 12  diet                              11751 non-null  object \n",
      " 13  previous_heart_problems           11751 non-null  float64\n",
      " 14  medication_use                    11751 non-null  float64\n",
      " 15  stress_level                      11751 non-null  float64\n",
      " 16  sedentary_hours_per_day           11751 non-null  float64\n",
      " 17  income                            11751 non-null  float64\n",
      " 18  bmi                               11751 non-null  float64\n",
      " 19  triglycerides                     11751 non-null  float64\n",
      " 20  physical_activity_days_per_week   11751 non-null  float64\n",
      " 21  sleep_hours_per_day               11751 non-null  float64\n",
      " 22  country                           11825 non-null  object \n",
      " 23  continent                         11751 non-null  object \n",
      " 24  hemisphere                        11751 non-null  object \n",
      " 25  heart_attack_risk                 11751 non-null  float64\n",
      " 26  2022                              11825 non-null  int64  \n",
      " 27  2021                              11825 non-null  object \n",
      " 28  city                              11825 non-null  object \n",
      " 29  remote_jobs                       11825 non-null  object \n",
      " 30  overworked_population             11825 non-null  object \n",
      " 31  minimum_vacations_offered_(days)  11825 non-null  int64  \n",
      " 32  vacations_taken_(days)            11825 non-null  object \n",
      " 33  unemployment                      11825 non-null  float64\n",
      " 34  multiple_jobholders               11825 non-null  object \n",
      " 35  inflation                         11825 non-null  object \n",
      " 36  paid_parental_leave_(days)        11825 non-null  object \n",
      " 37  covid_impact                      11825 non-null  float64\n",
      " 38  covid_support                     11825 non-null  float64\n",
      " 39  healthcare                        11825 non-null  float64\n",
      " 40  access_to_mental_healthcare       11825 non-null  float64\n",
      " 41  inclusivity_&_tolerance           11825 non-null  float64\n",
      " 42  affordability                     11825 non-null  float64\n",
      " 43  happiness,_culture_&_leisure      11825 non-null  float64\n",
      " 44  city_safety                       11825 non-null  float64\n",
      " 45  outdoor_spaces                    11825 non-null  float64\n",
      " 46  air_quality                       11825 non-null  float64\n",
      " 47  wellness_and_fitness              11825 non-null  float64\n",
      " 48  total_score                       11825 non-null  float64\n",
      "dtypes: float64(32), int64(2), object(15)\n",
      "memory usage: 4.4+ MB\n"
     ]
    }
   ],
   "source": [
    "df_heart_wlb.info()"
   ]
  },
  {
   "cell_type": "code",
   "execution_count": 142,
   "metadata": {},
   "outputs": [
    {
     "data": {
      "text/plain": [
       "patient_id                          74\n",
       "age                                 74\n",
       "sex                                 74\n",
       "cholesterol                         74\n",
       "blood_pressure                      74\n",
       "heart_rate                          74\n",
       "diabetes                            74\n",
       "family_history                      74\n",
       "smoking                             74\n",
       "obesity                             74\n",
       "alcohol_consumption                 74\n",
       "exercise_hours_per_week             74\n",
       "diet                                74\n",
       "previous_heart_problems             74\n",
       "medication_use                      74\n",
       "stress_level                        74\n",
       "sedentary_hours_per_day             74\n",
       "income                              74\n",
       "bmi                                 74\n",
       "triglycerides                       74\n",
       "physical_activity_days_per_week     74\n",
       "sleep_hours_per_day                 74\n",
       "country                              0\n",
       "continent                           74\n",
       "hemisphere                          74\n",
       "heart_attack_risk                   74\n",
       "2022                                 0\n",
       "2021                                 0\n",
       "city                                 0\n",
       "remote_jobs                          0\n",
       "overworked_population                0\n",
       "minimum_vacations_offered_(days)     0\n",
       "vacations_taken_(days)               0\n",
       "unemployment                         0\n",
       "multiple_jobholders                  0\n",
       "inflation                            0\n",
       "paid_parental_leave_(days)           0\n",
       "covid_impact                         0\n",
       "covid_support                        0\n",
       "healthcare                           0\n",
       "access_to_mental_healthcare          0\n",
       "inclusivity_&_tolerance              0\n",
       "affordability                        0\n",
       "happiness,_culture_&_leisure         0\n",
       "city_safety                          0\n",
       "outdoor_spaces                       0\n",
       "air_quality                          0\n",
       "wellness_and_fitness                 0\n",
       "total_score                          0\n",
       "dtype: int64"
      ]
     },
     "execution_count": 142,
     "metadata": {},
     "output_type": "execute_result"
    }
   ],
   "source": [
    "df_heart_wlb.isnull().sum()"
   ]
  },
  {
   "cell_type": "code",
   "execution_count": 143,
   "metadata": {},
   "outputs": [],
   "source": [
    "#df_dropped_a = df.dropna(subset=['A'])\n",
    "#dropping null values from columns\n",
    "\n",
    "df_cleaned_heart_wlb =df_heart_wlb.dropna(subset=['patient_id','sex','age','cholesterol','blood_pressure','heart_rate','diabetes','family_history',\n",
    "                                                 'smoking','obesity','alcohol_consumption','exercise_hours_per_week','diet','previous_heart_problems',\n",
    "                                                  'medication_use','stress_level','sedentary_hours_per_day','income','bmi','triglycerides',\n",
    "                                                   'physical_activity_days_per_week','sleep_hours_per_day','continent','hemisphere','heart_attack_risk'])                                 "
   ]
  },
  {
   "cell_type": "code",
   "execution_count": 144,
   "metadata": {},
   "outputs": [
    {
     "name": "stderr",
     "output_type": "stream",
     "text": [
      "/var/folders/n8/dys0g7xj7cv3k9q6t695fbrh0000gn/T/ipykernel_48276/740134893.py:3: SettingWithCopyWarning: \n",
      "A value is trying to be set on a copy of a slice from a DataFrame.\n",
      "Try using .loc[row_indexer,col_indexer] = value instead\n",
      "\n",
      "See the caveats in the documentation: https://pandas.pydata.org/pandas-docs/stable/user_guide/indexing.html#returning-a-view-versus-a-copy\n",
      "  df_cleaned_heart_wlb['triglycerides'] = df_cleaned_heart_wlb['triglycerides'].astype(int)\n"
     ]
    }
   ],
   "source": [
    "#change float into int\n",
    "\n",
    "df_cleaned_heart_wlb['triglycerides'] = df_cleaned_heart_wlb['triglycerides'].astype(int)\n"
   ]
  },
  {
   "cell_type": "code",
   "execution_count": 145,
   "metadata": {},
   "outputs": [],
   "source": [
    "df_heart_wlb_final =df_cleaned_heart_wlb.drop(['patient_id','2022', '2021','city'],axis=1)"
   ]
  },
  {
   "cell_type": "code",
   "execution_count": 146,
   "metadata": {},
   "outputs": [],
   "source": [
    "#converting percentage into float\n",
    "\n",
    "df_heart_wlb_final['inflation'] = df_heart_wlb_final['inflation'].str.replace('%', '').astype(float)\n"
   ]
  },
  {
   "cell_type": "code",
   "execution_count": 147,
   "metadata": {},
   "outputs": [],
   "source": [
    "df_heart_wlb_final['multiple_jobholders'] = df_heart_wlb_final['multiple_jobholders'].str.replace('%', '').astype(float)"
   ]
  },
  {
   "cell_type": "code",
   "execution_count": 148,
   "metadata": {},
   "outputs": [],
   "source": [
    "df_heart_wlb_final['remote_jobs'] = df_heart_wlb_final['remote_jobs'].str.replace('%', '').astype(float)"
   ]
  },
  {
   "cell_type": "code",
   "execution_count": 149,
   "metadata": {},
   "outputs": [],
   "source": [
    "df_heart_wlb_final['overworked_population'] = df_heart_wlb_final['overworked_population'].str.replace('%', '').astype(float)"
   ]
  },
  {
   "cell_type": "code",
   "execution_count": 150,
   "metadata": {},
   "outputs": [],
   "source": [
    "#change float into int\n",
    "\n",
    "df_heart_wlb_final['inflation'] = df_heart_wlb_final['inflation'].astype(int)\n",
    "df_heart_wlb_final['multiple_jobholders'] = df_heart_wlb_final['multiple_jobholders'].astype(int)\n",
    "df_heart_wlb_final['remote_jobs'] = df_heart_wlb_final['remote_jobs'].astype(int)\n",
    "df_heart_wlb_final['overworked_population'] = df_heart_wlb_final['overworked_population'].astype(int)"
   ]
  },
  {
   "cell_type": "code",
   "execution_count": 151,
   "metadata": {},
   "outputs": [],
   "source": [
    "#replace '-' with nan \n",
    "df_heart_wlb_final['vacations_taken_(days)'] = df_heart_wlb_final['vacations_taken_(days)'].replace('-', np.nan)"
   ]
  },
  {
   "cell_type": "code",
   "execution_count": 152,
   "metadata": {},
   "outputs": [],
   "source": [
    "#converting into float\n",
    "\n",
    "df_heart_wlb_final['vacations_taken_(days)'] = df_heart_wlb_final['vacations_taken_(days)'].astype(float)"
   ]
  },
  {
   "cell_type": "code",
   "execution_count": 153,
   "metadata": {},
   "outputs": [],
   "source": [
    "#repalacing nan the mean value\n",
    "\n",
    "df_heart_wlb_final['vacations_taken_(days)'].fillna(df_heart_wlb_final['vacations_taken_(days)'].mean(), inplace=True)\n"
   ]
  },
  {
   "cell_type": "code",
   "execution_count": 154,
   "metadata": {},
   "outputs": [],
   "source": [
    "#converting float into int\n",
    "\n",
    "df_heart_wlb_final['vacations_taken_(days)'] = df_heart_wlb_final['vacations_taken_(days)'].astype(int)"
   ]
  },
  {
   "cell_type": "markdown",
   "metadata": {},
   "source": [
    "checking p value"
   ]
  },
  {
   "cell_type": "code",
   "execution_count": 155,
   "metadata": {},
   "outputs": [
    {
     "name": "stdout",
     "output_type": "stream",
     "text": [
      "\n",
      "T-statistic: -2.2405181627749093\n",
      "P-value: 0.025075915330885903\n",
      "Reject the null hypothesis. There is a significant difference between the groups.\n"
     ]
    }
   ],
   "source": [
    "# Split data into two groups\n",
    "obesity_1 = df_heart_wlb_final[df_heart_wlb_final['obesity'] == 1]['heart_attack_risk']\n",
    "obesity_0 = df_heart_wlb_final[df_heart_wlb_final['obesity'] == 0]['heart_attack_risk']\n",
    "\n",
    "# Perform t-test\n",
    "t_stat, p_value = ttest_ind(obesity_1, obesity_0)\n",
    "\n",
    "# Print results\n",
    "print(f\"\\nT-statistic: {t_stat}\")\n",
    "print(f\"P-value: {p_value}\")\n",
    "\n",
    "# Interpret results\n",
    "alpha = 0.05\n",
    "if p_value <= alpha:\n",
    "    print(\"Reject the null hypothesis. There is a significant difference between the groups.\")\n",
    "else:\n",
    "    print(\"Fail to reject the null hypothesis. There is no significant difference between the groups.\")"
   ]
  },
  {
   "cell_type": "code",
   "execution_count": 156,
   "metadata": {},
   "outputs": [
    {
     "name": "stdout",
     "output_type": "stream",
     "text": [
      "\n",
      "T-statistic: -1.208741729608221\n",
      "P-value: 0.226786409799136\n",
      "Fail to reject the null hypothesis. There is no significant difference between the groups.\n"
     ]
    }
   ],
   "source": [
    "# Split data into two groups\n",
    "family_1 = df_heart_wlb_final[df_heart_wlb_final['family_history'] == 1]['heart_attack_risk']\n",
    "family_0 = df_heart_wlb_final[df_heart_wlb_final['family_history'] == 0]['heart_attack_risk']\n",
    "\n",
    "# Perform t-test\n",
    "t_stat, p_value = ttest_ind(family_1, family_0)\n",
    "\n",
    "# Print results\n",
    "print(f\"\\nT-statistic: {t_stat}\")\n",
    "print(f\"P-value: {p_value}\")\n",
    "\n",
    "# Interpret results\n",
    "alpha = 0.05\n",
    "if p_value <= alpha:\n",
    "    print(\"Reject the null hypothesis. There is a significant difference between the groups.\")\n",
    "else:\n",
    "    print(\"Fail to reject the null hypothesis. There is no significant difference between the groups.\")"
   ]
  },
  {
   "cell_type": "code",
   "execution_count": 157,
   "metadata": {},
   "outputs": [
    {
     "name": "stdout",
     "output_type": "stream",
     "text": [
      "\n",
      "T-statistic: 2.8418331475547243\n",
      "P-value: 0.004493220531283819\n",
      "Reject the null hypothesis. There is a significant difference between the groups.\n"
     ]
    }
   ],
   "source": [
    "# Split data into two groups\n",
    "diabetes_1 = df_heart_wlb_final[df_heart_wlb_final['diabetes'] == 1]['heart_attack_risk']\n",
    "diabetes_0 = df_heart_wlb_final[df_heart_wlb_final['diabetes'] == 0]['heart_attack_risk']\n",
    "\n",
    "# Perform t-test\n",
    "t_stat, p_value = ttest_ind(diabetes_1, diabetes_0)\n",
    "\n",
    "# Print results\n",
    "print(f\"\\nT-statistic: {t_stat}\")\n",
    "print(f\"P-value: {p_value}\")\n",
    "\n",
    "# Interpret results\n",
    "alpha = 0.05\n",
    "if p_value <= alpha:\n",
    "    print(\"Reject the null hypothesis. There is a significant difference between the groups.\")\n",
    "else:\n",
    "    print(\"Fail to reject the null hypothesis. There is no significant difference between the groups.\")"
   ]
  },
  {
   "cell_type": "code",
   "execution_count": 158,
   "metadata": {},
   "outputs": [
    {
     "name": "stdout",
     "output_type": "stream",
     "text": [
      "\n",
      "T-statistic: -2.0104331893141745\n",
      "P-value: 0.04440816949010908\n",
      "Reject the null hypothesis. There is a significant difference between the groups.\n"
     ]
    }
   ],
   "source": [
    "# Split data into two groups\n",
    "alcohol_1 = df_heart_wlb_final[df_heart_wlb_final['alcohol_consumption'] == 1]['heart_attack_risk']\n",
    "alcohol_0 = df_heart_wlb_final[df_heart_wlb_final['alcohol_consumption'] == 0]['heart_attack_risk']\n",
    "\n",
    "# Perform t-test\n",
    "t_stat, p_value = ttest_ind(alcohol_1, alcohol_0)\n",
    "\n",
    "# Print results\n",
    "print(f\"\\nT-statistic: {t_stat}\")\n",
    "print(f\"P-value: {p_value}\")\n",
    "\n",
    "# Interpret results\n",
    "alpha = 0.05\n",
    "if p_value <= alpha:\n",
    "    print(\"Reject the null hypothesis. There is a significant difference between the groups.\")\n",
    "else:\n",
    "    print(\"Fail to reject the null hypothesis. There is no significant difference between the groups.\")"
   ]
  },
  {
   "cell_type": "code",
   "execution_count": 159,
   "metadata": {},
   "outputs": [
    {
     "name": "stdout",
     "output_type": "stream",
     "text": [
      "\n",
      "T-statistic: 0.47183730442329375\n",
      "P-value: 0.6370516838510216\n",
      "Fail to reject the null hypothesis. There is no significant difference between the groups.\n"
     ]
    }
   ],
   "source": [
    "# Split data into two groups\n",
    "heart_1 = df_heart_wlb_final[df_heart_wlb_final['heart_attack_risk'] == 1]['inflation']\n",
    "heart_0 = df_heart_wlb_final[df_heart_wlb_final['heart_attack_risk'] == 0]['inflation']\n",
    "\n",
    "# Perform t-test\n",
    "t_stat, p_value = ttest_ind(heart_1, heart_0)\n",
    "\n",
    "# Print results\n",
    "print(f\"\\nT-statistic: {t_stat}\")\n",
    "print(f\"P-value: {p_value}\")\n",
    "\n",
    "# Interpret results\n",
    "alpha = 0.05\n",
    "if p_value <= alpha:\n",
    "    print(\"Reject the null hypothesis. There is a significant difference between the groups.\")\n",
    "else:\n",
    "    print(\"Fail to reject the null hypothesis. There is no significant difference between the groups.\")"
   ]
  },
  {
   "cell_type": "code",
   "execution_count": 160,
   "metadata": {},
   "outputs": [],
   "source": [
    "df_heart_wlb_final.drop(columns=[\n",
    "                            'blood_pressure','continent','hemisphere'],axis=1,inplace=True)"
   ]
  },
  {
   "cell_type": "markdown",
   "metadata": {},
   "source": [
    "Analyze the Data\n",
    "Perform statistical analysis to examine the relationship between country and heart attack incidence. We can use chi-square test for independence as it is suitable for categorical data.\n",
    "\n"
   ]
  },
  {
   "cell_type": "markdown",
   "metadata": {},
   "source": [
    "hypo:1 country_heart_heart_attack"
   ]
  },
  {
   "cell_type": "code",
   "execution_count": 161,
   "metadata": {},
   "outputs": [
    {
     "name": "stdout",
     "output_type": "stream",
     "text": [
      "Chi-Square Statistic: 10.897138901667436\n",
      "P-value: 0.5377539102259956\n"
     ]
    }
   ],
   "source": [
    "\n",
    "\n",
    "# Create a contingency table\n",
    "contingency_table = pd.crosstab(df_heart_wlb_final['country'], df_heart_wlb_final['heart_attack_risk'])\n",
    "\n",
    "# Perform the chi-square test\n",
    "chi2, p, dof, expected = chi2_contingency(contingency_table)\n",
    "\n",
    "print(f\"Chi-Square Statistic: {chi2}\")\n",
    "print(f\"P-value: {p}\")"
   ]
  },
  {
   "cell_type": "code",
   "execution_count": 162,
   "metadata": {},
   "outputs": [],
   "source": [
    "# Calculate the percentage of heart attacks for each country\n",
    "country_heart_attack = df_heart_wlb_final.groupby('country')['heart_attack_risk'].mean().reset_index()\n",
    "country_heart_attack['Heart_Attack_Percentage'] = country_heart_attack['heart_attack_risk'] * 100\n"
   ]
  },
  {
   "cell_type": "code",
   "execution_count": 163,
   "metadata": {},
   "outputs": [
    {
     "name": "stdout",
     "output_type": "stream",
     "text": [
      "         country  heart_attack_risk  Heart_Attack_Percentage\n",
      "0      Argentina           0.369427                36.942675\n",
      "1      Australia           0.374165                37.416481\n",
      "2         Brazil           0.352814                35.281385\n",
      "3         Canada           0.359091                35.909091\n",
      "4         France           0.352018                35.201794\n",
      "5        Germany           0.360587                36.058700\n",
      "6          Italy           0.315545                31.554524\n",
      "7          Japan           0.332564                33.256351\n",
      "8    New Zealand           0.347126                34.712644\n",
      "9   South Africa           0.338824                33.882353\n",
      "10   South Korea           0.398533                39.853301\n",
      "11         Spain           0.348837                34.883721\n",
      "12      Thailand           0.376168                37.616822\n",
      "Overall Average Heart Attack Percentage: 35.582295574196436\n"
     ]
    }
   ],
   "source": [
    "# Calculate the overall average heart attack percentage\n",
    "overall_average = country_heart_attack['Heart_Attack_Percentage'].mean()\n",
    "\n",
    "print(country_heart_attack)\n",
    "print(f\"Overall Average Heart Attack Percentage: {overall_average}\")"
   ]
  },
  {
   "cell_type": "code",
   "execution_count": 164,
   "metadata": {},
   "outputs": [],
   "source": [
    "country_heart_attack['difference'] = country_heart_attack['Heart_Attack_Percentage'] - 35.582295574196436"
   ]
  },
  {
   "cell_type": "code",
   "execution_count": 165,
   "metadata": {},
   "outputs": [
    {
     "data": {
      "text/plain": [
       "0     1.36\n",
       "1     1.83\n",
       "2    -0.30\n",
       "3     0.33\n",
       "4    -0.38\n",
       "5     0.48\n",
       "6    -4.03\n",
       "7    -2.33\n",
       "8    -0.87\n",
       "9    -1.70\n",
       "10    4.27\n",
       "11   -0.70\n",
       "12    2.03\n",
       "Name: difference, dtype: float64"
      ]
     },
     "execution_count": 165,
     "metadata": {},
     "output_type": "execute_result"
    }
   ],
   "source": [
    "country_heart_attack['difference'].round(2)"
   ]
  },
  {
   "cell_type": "code",
   "execution_count": 190,
   "metadata": {},
   "outputs": [
    {
     "name": "stderr",
     "output_type": "stream",
     "text": [
      "/usr/local/Caskroom/miniconda/base/envs/nf_sql/lib/python3.9/site-packages/seaborn/_oldcore.py:1498: FutureWarning: is_categorical_dtype is deprecated and will be removed in a future version. Use isinstance(dtype, CategoricalDtype) instead\n",
      "  if pd.api.types.is_categorical_dtype(vector):\n",
      "/usr/local/Caskroom/miniconda/base/envs/nf_sql/lib/python3.9/site-packages/seaborn/_oldcore.py:1498: FutureWarning: is_categorical_dtype is deprecated and will be removed in a future version. Use isinstance(dtype, CategoricalDtype) instead\n",
      "  if pd.api.types.is_categorical_dtype(vector):\n",
      "/usr/local/Caskroom/miniconda/base/envs/nf_sql/lib/python3.9/site-packages/seaborn/_oldcore.py:1498: FutureWarning: is_categorical_dtype is deprecated and will be removed in a future version. Use isinstance(dtype, CategoricalDtype) instead\n",
      "  if pd.api.types.is_categorical_dtype(vector):\n"
     ]
    },
    {
     "data": {
      "image/png": "[encoded data removed]",
      "text/plain": [
       "<Figure size 1400x800 with 1 Axes>"
      ]
     },
     "metadata": {},
     "output_type": "display_data"
    }
   ],
   "source": [
    "# Set the plot size and style\n",
    "plt.figure(figsize=(14, 8))\n",
    "sns.set_style(\"whitegrid\")\n",
    "\n",
    "# Create the bar plot\n",
    "sns.barplot(x='country', y='Heart_Attack_Percentage', data=country_heart_attack, palette='viridis')\n",
    "\n",
    "# Add the overall average line\n",
    "plt.axhline(overall_average, color='red', linestyle='--', label=f'Overall Average: {overall_average:.2f}%')\n",
    "\n",
    "# Add annotations for the percentages\n",
    "#for index, row in country_heart_attack.iterrows():\n",
    " #   plt.text(index, row['Heart_Attack_Percentage'] + 0.5, f\"{row['Heart_Attack_Percentage']:.2f}%\", color='black', ha=\"center\")\n",
    "\n",
    "# Customize the plot\n",
    "plt.title('Percentage of Heart Attacks by Country')\n",
    "plt.xlabel('Country')\n",
    "plt.ylabel('Heart Attack Percentage (%)')\n",
    "plt.xticks(rotation=45)\n",
    "plt.legend()\n",
    "\n",
    "# Show the plot\n",
    "plt.show()"
   ]
  },
  {
   "cell_type": "markdown",
   "metadata": {},
   "source": [
    "hypo:2 debetics_heart_attack"
   ]
  },
  {
   "cell_type": "code",
   "execution_count": 167,
   "metadata": {},
   "outputs": [
    {
     "name": "stdout",
     "output_type": "stream",
     "text": [
      "Chi-Square Statistic: 7.957300587551184\n",
      "P-value: 0.004789379152843826\n"
     ]
    }
   ],
   "source": [
    "# Create a contingency table\n",
    "contingency_table = pd.crosstab(df_heart_wlb_final['diabetes'], df_heart_wlb_final['heart_attack_risk'])\n",
    "\n",
    "# Perform the chi-square test\n",
    "chi2, p, dof, expected = chi2_contingency(contingency_table)\n",
    "\n",
    "print(f\"Chi-Square Statistic: {chi2}\")\n",
    "print(f\"P-value: {p}\")"
   ]
  },
  {
   "cell_type": "code",
   "execution_count": 168,
   "metadata": {},
   "outputs": [
    {
     "name": "stdout",
     "output_type": "stream",
     "text": [
      "         country  heart_attack_percentage  diabetes_percentage\n",
      "0      Argentina                36.942675            66.029724\n",
      "1      Australia                37.416481            64.810690\n",
      "2         Brazil                35.281385            61.471861\n",
      "3         Canada                35.909091            66.136364\n",
      "4         France                35.201794            66.591928\n",
      "5        Germany                36.058700            64.570231\n",
      "6          Italy                31.554524            68.213457\n",
      "7          Japan                33.256351            68.591224\n",
      "8    New Zealand                34.712644            61.839080\n",
      "9   South Africa                33.882353            67.764706\n",
      "10   South Korea                39.853301            66.259169\n",
      "11         Spain                34.883721            67.441860\n",
      "12      Thailand                37.616822            65.887850\n",
      "Overall Average Heart Attack Percentage: 35.818228235894814\n",
      "Overall Average Diabetes Percentage: 65.44974895753552\n"
     ]
    }
   ],
   "source": [
    "# Calculate the percentage of heart attacks and diabetes for each country\n",
    "country_stats = df_heart_wlb_final.groupby('country').agg(\n",
    "    heart_attack_percentage=('heart_attack_risk', 'mean'),\n",
    "    diabetes_percentage=('diabetes', 'mean')\n",
    ").reset_index()\n",
    "\n",
    "# Convert proportions to percentages\n",
    "country_stats['heart_attack_percentage'] *= 100\n",
    "country_stats['diabetes_percentage'] *= 100\n",
    "\n",
    "# Calculate the overall averages\n",
    "overall_avg_heart_attack = df_heart_wlb_final['heart_attack_risk'].mean() * 100\n",
    "overall_avg_diabetes = df_heart_wlb_final['diabetes'].mean() * 100\n",
    "\n",
    "print(country_stats)\n",
    "print(f\"Overall Average Heart Attack Percentage: {overall_avg_heart_attack}\")\n",
    "print(f\"Overall Average Diabetes Percentage: {overall_avg_diabetes}\")"
   ]
  },
  {
   "cell_type": "code",
   "execution_count": 193,
   "metadata": {},
   "outputs": [
    {
     "data": {
      "text/html": [
       "<svg  width=\"550\" height=\"55\"><rect x=\"0\" y=\"0\" width=\"55\" height=\"55\" style=\"fill:#1f77b4;stroke-width:2;stroke:rgb(255,255,255)\"/><rect x=\"55\" y=\"0\" width=\"55\" height=\"55\" style=\"fill:#ff7f0e;stroke-width:2;stroke:rgb(255,255,255)\"/><rect x=\"110\" y=\"0\" width=\"55\" height=\"55\" style=\"fill:#2ca02c;stroke-width:2;stroke:rgb(255,255,255)\"/><rect x=\"165\" y=\"0\" width=\"55\" height=\"55\" style=\"fill:#d62728;stroke-width:2;stroke:rgb(255,255,255)\"/><rect x=\"220\" y=\"0\" width=\"55\" height=\"55\" style=\"fill:#9467bd;stroke-width:2;stroke:rgb(255,255,255)\"/><rect x=\"275\" y=\"0\" width=\"55\" height=\"55\" style=\"fill:#8c564b;stroke-width:2;stroke:rgb(255,255,255)\"/><rect x=\"330\" y=\"0\" width=\"55\" height=\"55\" style=\"fill:#e377c2;stroke-width:2;stroke:rgb(255,255,255)\"/><rect x=\"385\" y=\"0\" width=\"55\" height=\"55\" style=\"fill:#7f7f7f;stroke-width:2;stroke:rgb(255,255,255)\"/><rect x=\"440\" y=\"0\" width=\"55\" height=\"55\" style=\"fill:#bcbd22;stroke-width:2;stroke:rgb(255,255,255)\"/><rect x=\"495\" y=\"0\" width=\"55\" height=\"55\" style=\"fill:#17becf;stroke-width:2;stroke:rgb(255,255,255)\"/></svg>"
      ],
      "text/plain": [
       "[(0.12156862745098039, 0.4666666666666667, 0.7058823529411765),\n",
       " (1.0, 0.4980392156862745, 0.054901960784313725),\n",
       " (0.17254901960784313, 0.6274509803921569, 0.17254901960784313),\n",
       " (0.8392156862745098, 0.15294117647058825, 0.1568627450980392),\n",
       " (0.5803921568627451, 0.403921568627451, 0.7411764705882353),\n",
       " (0.5490196078431373, 0.33725490196078434, 0.29411764705882354),\n",
       " (0.8901960784313725, 0.4666666666666667, 0.7607843137254902),\n",
       " (0.4980392156862745, 0.4980392156862745, 0.4980392156862745),\n",
       " (0.7372549019607844, 0.7411764705882353, 0.13333333333333333),\n",
       " (0.09019607843137255, 0.7450980392156863, 0.8117647058823529)]"
      ]
     },
     "execution_count": 193,
     "metadata": {},
     "output_type": "execute_result"
    }
   ],
   "source": [
    "sns.color_palette()"
   ]
  },
  {
   "cell_type": "code",
   "execution_count": 212,
   "metadata": {},
   "outputs": [
    {
     "name": "stderr",
     "output_type": "stream",
     "text": [
      "/usr/local/Caskroom/miniconda/base/envs/nf_sql/lib/python3.9/site-packages/seaborn/_oldcore.py:1498: FutureWarning: is_categorical_dtype is deprecated and will be removed in a future version. Use isinstance(dtype, CategoricalDtype) instead\n",
      "  if pd.api.types.is_categorical_dtype(vector):\n",
      "/usr/local/Caskroom/miniconda/base/envs/nf_sql/lib/python3.9/site-packages/seaborn/_oldcore.py:1498: FutureWarning: is_categorical_dtype is deprecated and will be removed in a future version. Use isinstance(dtype, CategoricalDtype) instead\n",
      "  if pd.api.types.is_categorical_dtype(vector):\n",
      "/usr/local/Caskroom/miniconda/base/envs/nf_sql/lib/python3.9/site-packages/seaborn/_oldcore.py:1498: FutureWarning: is_categorical_dtype is deprecated and will be removed in a future version. Use isinstance(dtype, CategoricalDtype) instead\n",
      "  if pd.api.types.is_categorical_dtype(vector):\n",
      "/usr/local/Caskroom/miniconda/base/envs/nf_sql/lib/python3.9/site-packages/seaborn/_oldcore.py:1498: FutureWarning: is_categorical_dtype is deprecated and will be removed in a future version. Use isinstance(dtype, CategoricalDtype) instead\n",
      "  if pd.api.types.is_categorical_dtype(vector):\n",
      "/usr/local/Caskroom/miniconda/base/envs/nf_sql/lib/python3.9/site-packages/seaborn/_oldcore.py:1498: FutureWarning: is_categorical_dtype is deprecated and will be removed in a future version. Use isinstance(dtype, CategoricalDtype) instead\n",
      "  if pd.api.types.is_categorical_dtype(vector):\n",
      "/usr/local/Caskroom/miniconda/base/envs/nf_sql/lib/python3.9/site-packages/seaborn/_oldcore.py:1498: FutureWarning: is_categorical_dtype is deprecated and will be removed in a future version. Use isinstance(dtype, CategoricalDtype) instead\n",
      "  if pd.api.types.is_categorical_dtype(vector):\n"
     ]
    },
    {
     "data": {
      "image/png": "[encoded data removed]",
      "text/plain": [
       "<Figure size 1400x800 with 1 Axes>"
      ]
     },
     "metadata": {},
     "output_type": "display_data"
    }
   ],
   "source": [
    "# Set up the matplotlib figure\n",
    "plt.figure(figsize=(14, 8))\n",
    "\n",
    "# Bar plot for Heart Attack Percentage by Country\n",
    "sns.barplot(x='country', y='heart_attack_percentage', data=country_stats,color='maroon', alpha=0.6, label='Heart Attack Percentage')\n",
    "plt.axhline(overall_avg_heart_attack, color='blue', linestyle='--', label=f'Avg Heart Attack: {overall_avg_heart_attack:.2f}%')\n",
    "\n",
    "# Bar plot for Diabetes Percentage by Country\n",
    "sns.barplot(x='country', y='diabetes_percentage', data=country_stats, alpha=0.6,color='yellow', label='Diabetes Percentage')\n",
    "plt.axhline(overall_avg_diabetes, color='red', linestyle='--', label=f'Avg Diabetes: {overall_avg_diabetes:.2f}%')\n",
    "\n",
    "# Customizing the plot\n",
    "#plt.title('getting heart_attac due to diabetes')\n",
    "plt.xlabel('Country')\n",
    "plt.ylabel('Percentage of heart attack')\n",
    "plt.xticks(rotation=45)\n",
    "plt.legend()\n",
    "plt.show()"
   ]
  },
  {
   "cell_type": "code",
   "execution_count": 170,
   "metadata": {},
   "outputs": [
    {
     "name": "stdout",
     "output_type": "stream",
     "text": [
      "   diabetes  heart_attack_risk\n",
      "0       0.0           0.340887\n",
      "1       1.0           0.367312\n"
     ]
    }
   ],
   "source": [
    "mean_heart_attack = df_heart_wlb_final.groupby('diabetes')['heart_attack_risk'].mean().reset_index()\n",
    "print(mean_heart_attack)"
   ]
  },
  {
   "cell_type": "code",
   "execution_count": 171,
   "metadata": {},
   "outputs": [
    {
     "name": "stderr",
     "output_type": "stream",
     "text": [
      "/usr/local/Caskroom/miniconda/base/envs/nf_sql/lib/python3.9/site-packages/seaborn/_oldcore.py:1498: FutureWarning: is_categorical_dtype is deprecated and will be removed in a future version. Use isinstance(dtype, CategoricalDtype) instead\n",
      "  if pd.api.types.is_categorical_dtype(vector):\n",
      "/usr/local/Caskroom/miniconda/base/envs/nf_sql/lib/python3.9/site-packages/seaborn/_oldcore.py:1498: FutureWarning: is_categorical_dtype is deprecated and will be removed in a future version. Use isinstance(dtype, CategoricalDtype) instead\n",
      "  if pd.api.types.is_categorical_dtype(vector):\n",
      "/usr/local/Caskroom/miniconda/base/envs/nf_sql/lib/python3.9/site-packages/seaborn/_oldcore.py:1498: FutureWarning: is_categorical_dtype is deprecated and will be removed in a future version. Use isinstance(dtype, CategoricalDtype) instead\n",
      "  if pd.api.types.is_categorical_dtype(vector):\n",
      "/usr/local/Caskroom/miniconda/base/envs/nf_sql/lib/python3.9/site-packages/seaborn/_oldcore.py:1498: FutureWarning: is_categorical_dtype is deprecated and will be removed in a future version. Use isinstance(dtype, CategoricalDtype) instead\n",
      "  if pd.api.types.is_categorical_dtype(vector):\n"
     ]
    },
    {
     "data": {
      "image/png": "[encoded data removed]",
      "text/plain": [
       "<Figure size 1000x600 with 1 Axes>"
      ]
     },
     "metadata": {},
     "output_type": "display_data"
    }
   ],
   "source": [
    "plt.figure(figsize=(10, 6))\n",
    "sns.countplot(x='diabetes', hue='heart_attack_risk', data=df_heart_wlb_final)\n",
    "plt.title('Heart Attack by diabetes')\n",
    "plt.xlabel('diabetes')\n",
    "plt.ylabel('Count')\n",
    "plt.legend(title='Heart Attack', loc='upper right', labels=['No', 'Yes'])\n",
    "plt.show()"
   ]
  },
  {
   "cell_type": "code",
   "execution_count": 172,
   "metadata": {},
   "outputs": [
    {
     "name": "stdout",
     "output_type": "stream",
     "text": [
      "         country  heart_attack_count  total_count  diabetes_count  \\\n",
      "0      Argentina               174.0          471           311.0   \n",
      "1      Australia               336.0          898           582.0   \n",
      "2         Brazil               163.0          462           284.0   \n",
      "3         Canada               632.0         1760          1164.0   \n",
      "4         France               157.0          446           297.0   \n",
      "5        Germany              1548.0         4293          2772.0   \n",
      "6          Italy               136.0          431           294.0   \n",
      "7          Japan               144.0          433           297.0   \n",
      "8    New Zealand               151.0          435           269.0   \n",
      "9   South Africa               144.0          425           288.0   \n",
      "10   South Korea               163.0          409           271.0   \n",
      "11         Spain               300.0          860           580.0   \n",
      "12      Thailand               161.0          428           282.0   \n",
      "\n",
      "    heart_attack_percentage  diabetes_percentage  \n",
      "0                 36.942675            66.029724  \n",
      "1                 37.416481            64.810690  \n",
      "2                 35.281385            61.471861  \n",
      "3                 35.909091            66.136364  \n",
      "4                 35.201794            66.591928  \n",
      "5                 36.058700            64.570231  \n",
      "6                 31.554524            68.213457  \n",
      "7                 33.256351            68.591224  \n",
      "8                 34.712644            61.839080  \n",
      "9                 33.882353            67.764706  \n",
      "10                39.853301            66.259169  \n",
      "11                34.883721            67.441860  \n",
      "12                37.616822            65.887850  \n"
     ]
    }
   ],
   "source": [
    "# Calculate the count and percentage of heart attacks and diabetes for each country\n",
    "country_stats = df_heart_wlb_final.groupby('country').agg(\n",
    "    heart_attack_count=('heart_attack_risk', 'sum'),\n",
    "    total_count=('country', 'count'),\n",
    "    diabetes_count=('diabetes', 'sum')\n",
    ").reset_index()\n",
    "\n",
    "# Calculate percentages\n",
    "country_stats['heart_attack_percentage'] = (country_stats['heart_attack_count'] / country_stats['total_count']) * 100\n",
    "country_stats['diabetes_percentage'] = (country_stats['diabetes_count'] / country_stats['total_count']) * 100\n",
    "\n",
    "# Display the statistics\n",
    "print(country_stats)"
   ]
  },
  {
   "cell_type": "code",
   "execution_count": 173,
   "metadata": {},
   "outputs": [
    {
     "name": "stderr",
     "output_type": "stream",
     "text": [
      "/usr/local/Caskroom/miniconda/base/envs/nf_sql/lib/python3.9/site-packages/seaborn/_oldcore.py:1498: FutureWarning: is_categorical_dtype is deprecated and will be removed in a future version. Use isinstance(dtype, CategoricalDtype) instead\n",
      "  if pd.api.types.is_categorical_dtype(vector):\n",
      "/usr/local/Caskroom/miniconda/base/envs/nf_sql/lib/python3.9/site-packages/seaborn/_oldcore.py:1498: FutureWarning: is_categorical_dtype is deprecated and will be removed in a future version. Use isinstance(dtype, CategoricalDtype) instead\n",
      "  if pd.api.types.is_categorical_dtype(vector):\n",
      "/usr/local/Caskroom/miniconda/base/envs/nf_sql/lib/python3.9/site-packages/seaborn/_oldcore.py:1498: FutureWarning: is_categorical_dtype is deprecated and will be removed in a future version. Use isinstance(dtype, CategoricalDtype) instead\n",
      "  if pd.api.types.is_categorical_dtype(vector):\n",
      "/usr/local/Caskroom/miniconda/base/envs/nf_sql/lib/python3.9/site-packages/seaborn/_oldcore.py:1498: FutureWarning: is_categorical_dtype is deprecated and will be removed in a future version. Use isinstance(dtype, CategoricalDtype) instead\n",
      "  if pd.api.types.is_categorical_dtype(vector):\n"
     ]
    },
    {
     "data": {
      "image/png": "[encoded data removed]",
      "text/plain": [
       "<Figure size 1400x800 with 1 Axes>"
      ]
     },
     "metadata": {},
     "output_type": "display_data"
    }
   ],
   "source": [
    "# Melt the dataframe to long format for seaborn\n",
    "country_stats_melted = country_stats.melt(id_vars='country', \n",
    "                                          value_vars=['heart_attack_percentage', 'diabetes_percentage'],\n",
    "                                          var_name='Condition', value_name='Percentage')\n",
    "\n",
    "# Set up the matplotlib figure\n",
    "plt.figure(figsize=(14, 8))\n",
    "\n",
    "# Bar plot for Heart Attack and Diabetes Percentage by Country\n",
    "sns.barplot(x='country', y='Percentage', hue='Condition', data=country_stats_melted)\n",
    "\n",
    "# Customizing the plot\n",
    "plt.title('Heart Attack and Diabetes Percentage by Country')\n",
    "plt.xlabel('Country')\n",
    "plt.ylabel('Percentage')\n",
    "plt.xticks(rotation=45)\n",
    "plt.legend(title='Condition')\n",
    "plt.show()"
   ]
  },
  {
   "cell_type": "code",
   "execution_count": 174,
   "metadata": {},
   "outputs": [
    {
     "data": {
      "text/html": [
       "<div>\n",
       "<style scoped>\n",
       "    .dataframe tbody tr th:only-of-type {\n",
       "        vertical-align: middle;\n",
       "    }\n",
       "\n",
       "    .dataframe tbody tr th {\n",
       "        vertical-align: top;\n",
       "    }\n",
       "\n",
       "    .dataframe thead th {\n",
       "        text-align: right;\n",
       "    }\n",
       "</style>\n",
       "<table border=\"1\" class=\"dataframe\">\n",
       "  <thead>\n",
       "    <tr style=\"text-align: right;\">\n",
       "      <th></th>\n",
       "      <th>age</th>\n",
       "      <th>sex</th>\n",
       "      <th>cholesterol</th>\n",
       "      <th>heart_rate</th>\n",
       "      <th>diabetes</th>\n",
       "      <th>family_history</th>\n",
       "      <th>smoking</th>\n",
       "      <th>obesity</th>\n",
       "      <th>alcohol_consumption</th>\n",
       "      <th>exercise_hours_per_week</th>\n",
       "      <th>...</th>\n",
       "      <th>healthcare</th>\n",
       "      <th>access_to_mental_healthcare</th>\n",
       "      <th>inclusivity_&amp;_tolerance</th>\n",
       "      <th>affordability</th>\n",
       "      <th>happiness,_culture_&amp;_leisure</th>\n",
       "      <th>city_safety</th>\n",
       "      <th>outdoor_spaces</th>\n",
       "      <th>air_quality</th>\n",
       "      <th>wellness_and_fitness</th>\n",
       "      <th>total_score</th>\n",
       "    </tr>\n",
       "  </thead>\n",
       "  <tbody>\n",
       "    <tr>\n",
       "      <th>6</th>\n",
       "      <td>21.0</td>\n",
       "      <td>Male</td>\n",
       "      <td>389.0</td>\n",
       "      <td>98.0</td>\n",
       "      <td>1.0</td>\n",
       "      <td>1.0</td>\n",
       "      <td>1.0</td>\n",
       "      <td>1.0</td>\n",
       "      <td>1.0</td>\n",
       "      <td>1.813242</td>\n",
       "      <td>...</td>\n",
       "      <td>96.7</td>\n",
       "      <td>92.4</td>\n",
       "      <td>93.5</td>\n",
       "      <td>70.7</td>\n",
       "      <td>81.4</td>\n",
       "      <td>84.8</td>\n",
       "      <td>97.0</td>\n",
       "      <td>99.2</td>\n",
       "      <td>68.7</td>\n",
       "      <td>95.51</td>\n",
       "    </tr>\n",
       "    <tr>\n",
       "      <th>7</th>\n",
       "      <td>84.0</td>\n",
       "      <td>Male</td>\n",
       "      <td>383.0</td>\n",
       "      <td>73.0</td>\n",
       "      <td>1.0</td>\n",
       "      <td>1.0</td>\n",
       "      <td>1.0</td>\n",
       "      <td>0.0</td>\n",
       "      <td>1.0</td>\n",
       "      <td>9.828130</td>\n",
       "      <td>...</td>\n",
       "      <td>96.7</td>\n",
       "      <td>92.4</td>\n",
       "      <td>93.5</td>\n",
       "      <td>70.7</td>\n",
       "      <td>81.4</td>\n",
       "      <td>84.8</td>\n",
       "      <td>97.0</td>\n",
       "      <td>99.2</td>\n",
       "      <td>68.7</td>\n",
       "      <td>95.51</td>\n",
       "    </tr>\n",
       "    <tr>\n",
       "      <th>8</th>\n",
       "      <td>90.0</td>\n",
       "      <td>Male</td>\n",
       "      <td>358.0</td>\n",
       "      <td>84.0</td>\n",
       "      <td>0.0</td>\n",
       "      <td>0.0</td>\n",
       "      <td>1.0</td>\n",
       "      <td>0.0</td>\n",
       "      <td>1.0</td>\n",
       "      <td>4.098177</td>\n",
       "      <td>...</td>\n",
       "      <td>96.7</td>\n",
       "      <td>92.4</td>\n",
       "      <td>93.5</td>\n",
       "      <td>70.7</td>\n",
       "      <td>81.4</td>\n",
       "      <td>84.8</td>\n",
       "      <td>97.0</td>\n",
       "      <td>99.2</td>\n",
       "      <td>68.7</td>\n",
       "      <td>95.51</td>\n",
       "    </tr>\n",
       "    <tr>\n",
       "      <th>9</th>\n",
       "      <td>60.0</td>\n",
       "      <td>Male</td>\n",
       "      <td>145.0</td>\n",
       "      <td>71.0</td>\n",
       "      <td>1.0</td>\n",
       "      <td>0.0</td>\n",
       "      <td>1.0</td>\n",
       "      <td>0.0</td>\n",
       "      <td>1.0</td>\n",
       "      <td>1.892559</td>\n",
       "      <td>...</td>\n",
       "      <td>96.7</td>\n",
       "      <td>92.4</td>\n",
       "      <td>93.5</td>\n",
       "      <td>70.7</td>\n",
       "      <td>81.4</td>\n",
       "      <td>84.8</td>\n",
       "      <td>97.0</td>\n",
       "      <td>99.2</td>\n",
       "      <td>68.7</td>\n",
       "      <td>95.51</td>\n",
       "    </tr>\n",
       "    <tr>\n",
       "      <th>10</th>\n",
       "      <td>66.0</td>\n",
       "      <td>Male</td>\n",
       "      <td>340.0</td>\n",
       "      <td>69.0</td>\n",
       "      <td>1.0</td>\n",
       "      <td>0.0</td>\n",
       "      <td>1.0</td>\n",
       "      <td>1.0</td>\n",
       "      <td>0.0</td>\n",
       "      <td>9.105434</td>\n",
       "      <td>...</td>\n",
       "      <td>96.7</td>\n",
       "      <td>92.4</td>\n",
       "      <td>93.5</td>\n",
       "      <td>70.7</td>\n",
       "      <td>81.4</td>\n",
       "      <td>84.8</td>\n",
       "      <td>97.0</td>\n",
       "      <td>99.2</td>\n",
       "      <td>68.7</td>\n",
       "      <td>95.51</td>\n",
       "    </tr>\n",
       "    <tr>\n",
       "      <th>...</th>\n",
       "      <td>...</td>\n",
       "      <td>...</td>\n",
       "      <td>...</td>\n",
       "      <td>...</td>\n",
       "      <td>...</td>\n",
       "      <td>...</td>\n",
       "      <td>...</td>\n",
       "      <td>...</td>\n",
       "      <td>...</td>\n",
       "      <td>...</td>\n",
       "      <td>...</td>\n",
       "      <td>...</td>\n",
       "      <td>...</td>\n",
       "      <td>...</td>\n",
       "      <td>...</td>\n",
       "      <td>...</td>\n",
       "      <td>...</td>\n",
       "      <td>...</td>\n",
       "      <td>...</td>\n",
       "      <td>...</td>\n",
       "      <td>...</td>\n",
       "    </tr>\n",
       "    <tr>\n",
       "      <th>11820</th>\n",
       "      <td>26.0</td>\n",
       "      <td>Male</td>\n",
       "      <td>259.0</td>\n",
       "      <td>107.0</td>\n",
       "      <td>0.0</td>\n",
       "      <td>0.0</td>\n",
       "      <td>1.0</td>\n",
       "      <td>0.0</td>\n",
       "      <td>0.0</td>\n",
       "      <td>15.486622</td>\n",
       "      <td>...</td>\n",
       "      <td>50.0</td>\n",
       "      <td>65.0</td>\n",
       "      <td>89.7</td>\n",
       "      <td>71.6</td>\n",
       "      <td>59.6</td>\n",
       "      <td>1.0</td>\n",
       "      <td>87.6</td>\n",
       "      <td>94.5</td>\n",
       "      <td>50.0</td>\n",
       "      <td>50.00</td>\n",
       "    </tr>\n",
       "    <tr>\n",
       "      <th>11821</th>\n",
       "      <td>74.0</td>\n",
       "      <td>Female</td>\n",
       "      <td>306.0</td>\n",
       "      <td>84.0</td>\n",
       "      <td>0.0</td>\n",
       "      <td>0.0</td>\n",
       "      <td>1.0</td>\n",
       "      <td>1.0</td>\n",
       "      <td>0.0</td>\n",
       "      <td>14.479625</td>\n",
       "      <td>...</td>\n",
       "      <td>50.0</td>\n",
       "      <td>65.0</td>\n",
       "      <td>89.7</td>\n",
       "      <td>71.6</td>\n",
       "      <td>59.6</td>\n",
       "      <td>1.0</td>\n",
       "      <td>87.6</td>\n",
       "      <td>94.5</td>\n",
       "      <td>50.0</td>\n",
       "      <td>50.00</td>\n",
       "    </tr>\n",
       "    <tr>\n",
       "      <th>11822</th>\n",
       "      <td>59.0</td>\n",
       "      <td>Male</td>\n",
       "      <td>148.0</td>\n",
       "      <td>108.0</td>\n",
       "      <td>1.0</td>\n",
       "      <td>1.0</td>\n",
       "      <td>1.0</td>\n",
       "      <td>0.0</td>\n",
       "      <td>1.0</td>\n",
       "      <td>11.987307</td>\n",
       "      <td>...</td>\n",
       "      <td>50.0</td>\n",
       "      <td>65.0</td>\n",
       "      <td>89.7</td>\n",
       "      <td>71.6</td>\n",
       "      <td>59.6</td>\n",
       "      <td>1.0</td>\n",
       "      <td>87.6</td>\n",
       "      <td>94.5</td>\n",
       "      <td>50.0</td>\n",
       "      <td>50.00</td>\n",
       "    </tr>\n",
       "    <tr>\n",
       "      <th>11823</th>\n",
       "      <td>80.0</td>\n",
       "      <td>Male</td>\n",
       "      <td>144.0</td>\n",
       "      <td>57.0</td>\n",
       "      <td>1.0</td>\n",
       "      <td>1.0</td>\n",
       "      <td>1.0</td>\n",
       "      <td>0.0</td>\n",
       "      <td>1.0</td>\n",
       "      <td>18.220469</td>\n",
       "      <td>...</td>\n",
       "      <td>50.0</td>\n",
       "      <td>65.0</td>\n",
       "      <td>89.7</td>\n",
       "      <td>71.6</td>\n",
       "      <td>59.6</td>\n",
       "      <td>1.0</td>\n",
       "      <td>87.6</td>\n",
       "      <td>94.5</td>\n",
       "      <td>50.0</td>\n",
       "      <td>50.00</td>\n",
       "    </tr>\n",
       "    <tr>\n",
       "      <th>11824</th>\n",
       "      <td>60.0</td>\n",
       "      <td>Male</td>\n",
       "      <td>156.0</td>\n",
       "      <td>83.0</td>\n",
       "      <td>1.0</td>\n",
       "      <td>1.0</td>\n",
       "      <td>1.0</td>\n",
       "      <td>0.0</td>\n",
       "      <td>1.0</td>\n",
       "      <td>18.266349</td>\n",
       "      <td>...</td>\n",
       "      <td>50.0</td>\n",
       "      <td>65.0</td>\n",
       "      <td>89.7</td>\n",
       "      <td>71.6</td>\n",
       "      <td>59.6</td>\n",
       "      <td>1.0</td>\n",
       "      <td>87.6</td>\n",
       "      <td>94.5</td>\n",
       "      <td>50.0</td>\n",
       "      <td>50.00</td>\n",
       "    </tr>\n",
       "  </tbody>\n",
       "</table>\n",
       "<p>11751 rows × 42 columns</p>\n",
       "</div>"
      ],
      "text/plain": [
       "        age     sex  cholesterol  heart_rate  diabetes  family_history  \\\n",
       "6      21.0    Male        389.0        98.0       1.0             1.0   \n",
       "7      84.0    Male        383.0        73.0       1.0             1.0   \n",
       "8      90.0    Male        358.0        84.0       0.0             0.0   \n",
       "9      60.0    Male        145.0        71.0       1.0             0.0   \n",
       "10     66.0    Male        340.0        69.0       1.0             0.0   \n",
       "...     ...     ...          ...         ...       ...             ...   \n",
       "11820  26.0    Male        259.0       107.0       0.0             0.0   \n",
       "11821  74.0  Female        306.0        84.0       0.0             0.0   \n",
       "11822  59.0    Male        148.0       108.0       1.0             1.0   \n",
       "11823  80.0    Male        144.0        57.0       1.0             1.0   \n",
       "11824  60.0    Male        156.0        83.0       1.0             1.0   \n",
       "\n",
       "       smoking  obesity  alcohol_consumption  exercise_hours_per_week  ...  \\\n",
       "6          1.0      1.0                  1.0                 1.813242  ...   \n",
       "7          1.0      0.0                  1.0                 9.828130  ...   \n",
       "8          1.0      0.0                  1.0                 4.098177  ...   \n",
       "9          1.0      0.0                  1.0                 1.892559  ...   \n",
       "10         1.0      1.0                  0.0                 9.105434  ...   \n",
       "...        ...      ...                  ...                      ...  ...   \n",
       "11820      1.0      0.0                  0.0                15.486622  ...   \n",
       "11821      1.0      1.0                  0.0                14.479625  ...   \n",
       "11822      1.0      0.0                  1.0                11.987307  ...   \n",
       "11823      1.0      0.0                  1.0                18.220469  ...   \n",
       "11824      1.0      0.0                  1.0                18.266349  ...   \n",
       "\n",
       "      healthcare  access_to_mental_healthcare  inclusivity_&_tolerance  \\\n",
       "6           96.7                         92.4                     93.5   \n",
       "7           96.7                         92.4                     93.5   \n",
       "8           96.7                         92.4                     93.5   \n",
       "9           96.7                         92.4                     93.5   \n",
       "10          96.7                         92.4                     93.5   \n",
       "...          ...                          ...                      ...   \n",
       "11820       50.0                         65.0                     89.7   \n",
       "11821       50.0                         65.0                     89.7   \n",
       "11822       50.0                         65.0                     89.7   \n",
       "11823       50.0                         65.0                     89.7   \n",
       "11824       50.0                         65.0                     89.7   \n",
       "\n",
       "       affordability  happiness,_culture_&_leisure  city_safety  \\\n",
       "6               70.7                          81.4         84.8   \n",
       "7               70.7                          81.4         84.8   \n",
       "8               70.7                          81.4         84.8   \n",
       "9               70.7                          81.4         84.8   \n",
       "10              70.7                          81.4         84.8   \n",
       "...              ...                           ...          ...   \n",
       "11820           71.6                          59.6          1.0   \n",
       "11821           71.6                          59.6          1.0   \n",
       "11822           71.6                          59.6          1.0   \n",
       "11823           71.6                          59.6          1.0   \n",
       "11824           71.6                          59.6          1.0   \n",
       "\n",
       "       outdoor_spaces  air_quality  wellness_and_fitness  total_score  \n",
       "6                97.0         99.2                  68.7        95.51  \n",
       "7                97.0         99.2                  68.7        95.51  \n",
       "8                97.0         99.2                  68.7        95.51  \n",
       "9                97.0         99.2                  68.7        95.51  \n",
       "10               97.0         99.2                  68.7        95.51  \n",
       "...               ...          ...                   ...          ...  \n",
       "11820            87.6         94.5                  50.0        50.00  \n",
       "11821            87.6         94.5                  50.0        50.00  \n",
       "11822            87.6         94.5                  50.0        50.00  \n",
       "11823            87.6         94.5                  50.0        50.00  \n",
       "11824            87.6         94.5                  50.0        50.00  \n",
       "\n",
       "[11751 rows x 42 columns]"
      ]
     },
     "execution_count": 174,
     "metadata": {},
     "output_type": "execute_result"
    }
   ],
   "source": [
    "df_heart_wlb_final"
   ]
  },
  {
   "cell_type": "code",
   "execution_count": 175,
   "metadata": {},
   "outputs": [
    {
     "data": {
      "text/plain": [
       "Index(['age', 'sex', 'cholesterol', 'heart_rate', 'diabetes', 'family_history',\n",
       "       'smoking', 'obesity', 'alcohol_consumption', 'exercise_hours_per_week',\n",
       "       'diet', 'previous_heart_problems', 'medication_use', 'stress_level',\n",
       "       'sedentary_hours_per_day', 'income', 'bmi', 'triglycerides',\n",
       "       'physical_activity_days_per_week', 'sleep_hours_per_day', 'country',\n",
       "       'heart_attack_risk', 'remote_jobs', 'overworked_population',\n",
       "       'minimum_vacations_offered_(days)', 'vacations_taken_(days)',\n",
       "       'unemployment', 'multiple_jobholders', 'inflation',\n",
       "       'paid_parental_leave_(days)', 'covid_impact', 'covid_support',\n",
       "       'healthcare', 'access_to_mental_healthcare', 'inclusivity_&_tolerance',\n",
       "       'affordability', 'happiness,_culture_&_leisure', 'city_safety',\n",
       "       'outdoor_spaces', 'air_quality', 'wellness_and_fitness', 'total_score'],\n",
       "      dtype='object')"
      ]
     },
     "execution_count": 175,
     "metadata": {},
     "output_type": "execute_result"
    }
   ],
   "source": [
    "df_heart_wlb_final.columns"
   ]
  },
  {
   "cell_type": "code",
   "execution_count": 176,
   "metadata": {},
   "outputs": [],
   "source": [
    "# Import the get_engine function from our sql_functions.\n",
    "from sql_functions import get_engine #adjust this as necessary to match your sql_functions.py connection methods"
   ]
  },
  {
   "cell_type": "code",
   "execution_count": 177,
   "metadata": {},
   "outputs": [],
   "source": [
    "schema = 'cgn_analytics_24_2' # UPDATE 'TABLE_SCHEMA' based on schema used in class \n",
    "engine = get_engine() # assign engine to be able to query against the database\n",
    "\n"
   ]
  },
  {
   "cell_type": "code",
   "execution_count": 178,
   "metadata": {},
   "outputs": [
    {
     "name": "stdout",
     "output_type": "stream",
     "text": [
      "The df_heart_wlb_final table was imported successfully.\n"
     ]
    }
   ],
   "source": [
    "# Specify which table within your database you want to push your data to. Give your table an unambiguous name.\n",
    "# Example: flights_sp for Sina's flights table, flights_groupname or similar\n",
    "table_name = 'df_heart_wlb_final'\n",
    "# If the specified table doesn't exist yet, it will be created\n",
    "# With 'replace', your data will be replaced if the table already exists.\n",
    "# This may take some time ...\n",
    "\n",
    "# Write records stored in a dataframe to SQL database\n",
    "if engine!=None:\n",
    "    try:\n",
    "        df_heart_wlb_final.to_sql(name=table_name, # Name of SQL table\n",
    "                        con=engine, # Engine or connection\n",
    "                        if_exists='replace', # Drop the table before inserting new values \n",
    "                        schema=schema, # Use schmea that was defined earlier\n",
    "                        index=False, # Write DataFrame index as a column\n",
    "                        chunksize=5000, # Specify the number of rows in each batch to be written at a time\n",
    "                        method='multi') # Pass multiple values in a single INSERT clause\n",
    "        print(f\"The {table_name} table was imported successfully.\")\n",
    "    # Error handling\n",
    "    except (Exception, psycopg2.DatabaseError) as error:\n",
    "        print(error)\n",
    "        engine = None"
   ]
  },
  {
   "cell_type": "markdown",
   "metadata": {},
   "source": [
    "age_heart_attack"
   ]
  },
  {
   "cell_type": "code",
   "execution_count": 199,
   "metadata": {},
   "outputs": [],
   "source": [
    "# Define age groups\n",
    "bins = [18, 30, 45, 60, 75, 100]\n",
    "labels = ['18-30', '31-45', '46-60', '61-75', '76+']\n",
    "df_heart_wlb_final['age_group'] = pd.cut(df_heart_wlb_final['age'], bins=bins, labels=labels, right=False)\n"
   ]
  },
  {
   "cell_type": "code",
   "execution_count": 200,
   "metadata": {},
   "outputs": [
    {
     "name": "stderr",
     "output_type": "stream",
     "text": [
      "/var/folders/n8/dys0g7xj7cv3k9q6t695fbrh0000gn/T/ipykernel_48276/3824669125.py:2: FutureWarning: The default of observed=False is deprecated and will be changed to True in a future version of pandas. Pass observed=False to retain current behavior or observed=True to adopt the future default and silence this warning.\n",
      "  heart_attack_counts = df_heart_wlb_final[df_heart_wlb_final['heart_attack_risk'] == 1].groupby(['country', 'age_group']).size().reset_index(name='Heart_Attack_Count')\n"
     ]
    },
    {
     "name": "stdout",
     "output_type": "stream",
     "text": [
      "      country age_group  Heart_Attack_Count\n",
      "0   Argentina     18-30                  28\n",
      "1   Argentina     31-45                  42\n",
      "2   Argentina     46-60                  32\n",
      "3   Argentina     61-75                  28\n",
      "4   Argentina       76+                  44\n",
      "..        ...       ...                 ...\n",
      "60   Thailand     18-30                  28\n",
      "61   Thailand     31-45                  33\n",
      "62   Thailand     46-60                  31\n",
      "63   Thailand     61-75                  31\n",
      "64   Thailand       76+                  38\n",
      "\n",
      "[65 rows x 3 columns]\n"
     ]
    }
   ],
   "source": [
    "# Aggregate the number of heart attacks by country and age group\n",
    "heart_attack_counts = df_heart_wlb_final[df_heart_wlb_final['heart_attack_risk'] == 1].groupby(['country', 'age_group']).size().reset_index(name='Heart_Attack_Count')\n",
    "print(heart_attack_counts)"
   ]
  },
  {
   "cell_type": "code",
   "execution_count": 201,
   "metadata": {},
   "outputs": [
    {
     "name": "stderr",
     "output_type": "stream",
     "text": [
      "/usr/local/Caskroom/miniconda/base/envs/nf_sql/lib/python3.9/site-packages/seaborn/_oldcore.py:1498: FutureWarning: is_categorical_dtype is deprecated and will be removed in a future version. Use isinstance(dtype, CategoricalDtype) instead\n",
      "  if pd.api.types.is_categorical_dtype(vector):\n",
      "/usr/local/Caskroom/miniconda/base/envs/nf_sql/lib/python3.9/site-packages/seaborn/categorical.py:641: FutureWarning: The default of observed=False is deprecated and will be changed to True in a future version of pandas. Pass observed=False to retain current behavior or observed=True to adopt the future default and silence this warning.\n",
      "  grouped_vals = vals.groupby(grouper)\n",
      "/usr/local/Caskroom/miniconda/base/envs/nf_sql/lib/python3.9/site-packages/seaborn/_oldcore.py:1498: FutureWarning: is_categorical_dtype is deprecated and will be removed in a future version. Use isinstance(dtype, CategoricalDtype) instead\n",
      "  if pd.api.types.is_categorical_dtype(vector):\n",
      "/usr/local/Caskroom/miniconda/base/envs/nf_sql/lib/python3.9/site-packages/seaborn/categorical.py:641: FutureWarning: The default of observed=False is deprecated and will be changed to True in a future version of pandas. Pass observed=False to retain current behavior or observed=True to adopt the future default and silence this warning.\n",
      "  grouped_vals = vals.groupby(grouper)\n"
     ]
    },
    {
     "data": {
      "image/png": "[encoded data removed]",
      "text/plain": [
       "<Figure size 1200x800 with 1 Axes>"
      ]
     },
     "metadata": {},
     "output_type": "display_data"
    }
   ],
   "source": [
    "# Create a bar plot using seaborn\n",
    "plt.figure(figsize=(12, 8))\n",
    "sns.barplot(x='age_group', y='Heart_Attack_Count', hue='country', data=heart_attack_counts, palette='viridis')\n",
    "\n",
    "plt.xlabel('Age Group')\n",
    "plt.ylabel('Number of Heart Attacks')\n",
    "plt.title('Number of Heart Attacks by Country and Age Group')\n",
    "plt.show()"
   ]
  },
  {
   "cell_type": "code",
   "execution_count": 183,
   "metadata": {},
   "outputs": [
    {
     "data": {
      "text/plain": [
       "country\n",
       "Germany         4293\n",
       "Canada          1760\n",
       "Australia        898\n",
       "Spain            860\n",
       "Argentina        471\n",
       "Brazil           462\n",
       "France           446\n",
       "New Zealand      435\n",
       "Japan            433\n",
       "Italy            431\n",
       "Thailand         428\n",
       "South Africa     425\n",
       "South Korea      409\n",
       "Name: count, dtype: int64"
      ]
     },
     "execution_count": 183,
     "metadata": {},
     "output_type": "execute_result"
    }
   ],
   "source": [
    "df_heart_wlb_final['country'].value_counts()"
   ]
  },
  {
   "cell_type": "code",
   "execution_count": 202,
   "metadata": {},
   "outputs": [
    {
     "name": "stdout",
     "output_type": "stream",
     "text": [
      "      country age_group  Total_Count  Heart_Attack_Count  \\\n",
      "0   Argentina     18-30           84                  28   \n",
      "1   Argentina     31-45           90                  42   \n",
      "2   Argentina     46-60           93                  32   \n",
      "3   Argentina     61-75           88                  28   \n",
      "4   Argentina       76+          116                  44   \n",
      "..        ...       ...          ...                 ...   \n",
      "60   Thailand     18-30           77                  28   \n",
      "61   Thailand     31-45           90                  33   \n",
      "62   Thailand     46-60           85                  31   \n",
      "63   Thailand     61-75           85                  31   \n",
      "64   Thailand       76+           91                  38   \n",
      "\n",
      "    Heart_Attack_Percentage  \n",
      "0                 33.333333  \n",
      "1                 46.666667  \n",
      "2                 34.408602  \n",
      "3                 31.818182  \n",
      "4                 37.931034  \n",
      "..                      ...  \n",
      "60                36.363636  \n",
      "61                36.666667  \n",
      "62                36.470588  \n",
      "63                36.470588  \n",
      "64                41.758242  \n",
      "\n",
      "[65 rows x 5 columns]\n"
     ]
    },
    {
     "name": "stderr",
     "output_type": "stream",
     "text": [
      "/var/folders/n8/dys0g7xj7cv3k9q6t695fbrh0000gn/T/ipykernel_48276/3644544424.py:2: FutureWarning: The default of observed=False is deprecated and will be changed to True in a future version of pandas. Pass observed=False to retain current behavior or observed=True to adopt the future default and silence this warning.\n",
      "  total_counts = df_heart_wlb_final.groupby(['country', 'age_group']).size().reset_index(name='Total_Count')\n",
      "/var/folders/n8/dys0g7xj7cv3k9q6t695fbrh0000gn/T/ipykernel_48276/3644544424.py:5: FutureWarning: The default of observed=False is deprecated and will be changed to True in a future version of pandas. Pass observed=False to retain current behavior or observed=True to adopt the future default and silence this warning.\n",
      "  heart_attack_counts = df_heart_wlb_final[df_heart_wlb_final['heart_attack_risk'] == 1].groupby(['country', 'age_group']).size().reset_index(name='Heart_Attack_Count')\n"
     ]
    }
   ],
   "source": [
    "# Calculate the total number of people by country and age group\n",
    "total_counts = df_heart_wlb_final.groupby(['country', 'age_group']).size().reset_index(name='Total_Count')\n",
    "\n",
    "# Calculate the number of heart attacks by country and age group\n",
    "heart_attack_counts = df_heart_wlb_final[df_heart_wlb_final['heart_attack_risk'] == 1].groupby(['country', 'age_group']).size().reset_index(name='Heart_Attack_Count')\n",
    "\n",
    "# Merge the two dataframes\n",
    "merged_df = pd.merge(total_counts, heart_attack_counts, on=['country', 'age_group'], how='left')\n",
    "merged_df['Heart_Attack_Count'].fillna(0, inplace=True)\n",
    "\n",
    "# Calculate the percentage of heart attacks\n",
    "merged_df['Heart_Attack_Percentage'] = (merged_df['Heart_Attack_Count'] / merged_df['Total_Count']) * 100\n",
    "\n",
    "print(merged_df)"
   ]
  },
  {
   "cell_type": "code",
   "execution_count": 211,
   "metadata": {},
   "outputs": [
    {
     "name": "stderr",
     "output_type": "stream",
     "text": [
      "/usr/local/Caskroom/miniconda/base/envs/nf_sql/lib/python3.9/site-packages/seaborn/_oldcore.py:1498: FutureWarning: is_categorical_dtype is deprecated and will be removed in a future version. Use isinstance(dtype, CategoricalDtype) instead\n",
      "  if pd.api.types.is_categorical_dtype(vector):\n",
      "/usr/local/Caskroom/miniconda/base/envs/nf_sql/lib/python3.9/site-packages/seaborn/categorical.py:641: FutureWarning: The default of observed=False is deprecated and will be changed to True in a future version of pandas. Pass observed=False to retain current behavior or observed=True to adopt the future default and silence this warning.\n",
      "  grouped_vals = vals.groupby(grouper)\n",
      "/usr/local/Caskroom/miniconda/base/envs/nf_sql/lib/python3.9/site-packages/seaborn/_oldcore.py:1498: FutureWarning: is_categorical_dtype is deprecated and will be removed in a future version. Use isinstance(dtype, CategoricalDtype) instead\n",
      "  if pd.api.types.is_categorical_dtype(vector):\n",
      "/usr/local/Caskroom/miniconda/base/envs/nf_sql/lib/python3.9/site-packages/seaborn/categorical.py:641: FutureWarning: The default of observed=False is deprecated and will be changed to True in a future version of pandas. Pass observed=False to retain current behavior or observed=True to adopt the future default and silence this warning.\n",
      "  grouped_vals = vals.groupby(grouper)\n"
     ]
    },
    {
     "data": {
      "image/png": "[encoded data removed]",
      "text/plain": [
       "<Figure size 1400x800 with 1 Axes>"
      ]
     },
     "metadata": {},
     "output_type": "display_data"
    }
   ],
   "source": [
    "# Create a bar plot using seaborn\n",
    "plt.figure(figsize=(14, 8))\n",
    "sns.barplot(x='age_group', y='Heart_Attack_Percentage', hue='country', data=merged_df, palette='tab10')\n",
    "\n",
    "plt.xlabel('Age Group')\n",
    "plt.ylabel('Percentage of Heart Attacks')\n",
    "plt.title('Percentage of Heart Attacks by Country and Age Group')\n",
    "plt.show()"
   ]
  },
  {
   "cell_type": "code",
   "execution_count": 215,
   "metadata": {},
   "outputs": [
    {
     "data": {
      "text/plain": [
       "Index(['age', 'sex', 'cholesterol', 'heart_rate', 'diabetes', 'family_history',\n",
       "       'smoking', 'obesity', 'alcohol_consumption', 'exercise_hours_per_week',\n",
       "       'diet', 'previous_heart_problems', 'medication_use', 'stress_level',\n",
       "       'sedentary_hours_per_day', 'income', 'bmi', 'triglycerides',\n",
       "       'physical_activity_days_per_week', 'sleep_hours_per_day', 'country',\n",
       "       'heart_attack_risk', 'remote_jobs', 'overworked_population',\n",
       "       'minimum_vacations_offered_(days)', 'vacations_taken_(days)',\n",
       "       'unemployment', 'multiple_jobholders', 'inflation',\n",
       "       'paid_parental_leave_(days)', 'covid_impact', 'covid_support',\n",
       "       'healthcare', 'access_to_mental_healthcare', 'inclusivity_&_tolerance',\n",
       "       'affordability', 'happiness,_culture_&_leisure', 'city_safety',\n",
       "       'outdoor_spaces', 'air_quality', 'wellness_and_fitness', 'total_score',\n",
       "       'age_group'],\n",
       "      dtype='object')"
      ]
     },
     "execution_count": 215,
     "metadata": {},
     "output_type": "execute_result"
    }
   ],
   "source": [
    "df_heart_wlb_final.columns"
   ]
  },
  {
   "cell_type": "markdown",
   "metadata": {},
   "source": [
    "alchol_consuption_heart_attack"
   ]
  },
  {
   "cell_type": "code",
   "execution_count": 231,
   "metadata": {},
   "outputs": [],
   "source": [
    "# Calculate the total number of people by country and alcohol consumption level\n",
    "total_counts = df_heart_wlb_final.groupby(['country', 'alcohol_consumption']).size().reset_index(name='Total_Count')\n"
   ]
  },
  {
   "cell_type": "code",
   "execution_count": 217,
   "metadata": {},
   "outputs": [],
   "source": [
    "# Calculate the number of heart attacks by country and alcohol consumption level\n",
    "heart_attack_counts = df_heart_wlb_final[df_heart_wlb_final['heart_attack_risk'] == 1].groupby(['country', 'alcohol_consumption']).size().reset_index(name='Heart_Attack_Count')\n"
   ]
  },
  {
   "cell_type": "code",
   "execution_count": 218,
   "metadata": {},
   "outputs": [],
   "source": [
    "# Merge the two dataframes\n",
    "merged_df = pd.merge(total_counts, heart_attack_counts, on=['country', 'alcohol_consumption'], how='left')\n",
    "merged_df['Heart_Attack_Count'].fillna(0, inplace=True)"
   ]
  },
  {
   "cell_type": "code",
   "execution_count": 219,
   "metadata": {},
   "outputs": [],
   "source": [
    "# Calculate the percentage of heart attacks\n",
    "merged_df['Heart_Attack_Percentage'] = (merged_df['Heart_Attack_Count'] / merged_df['Total_Count']) * 100\n"
   ]
  },
  {
   "cell_type": "code",
   "execution_count": 225,
   "metadata": {},
   "outputs": [
    {
     "name": "stderr",
     "output_type": "stream",
     "text": [
      "/usr/local/Caskroom/miniconda/base/envs/nf_sql/lib/python3.9/site-packages/seaborn/_oldcore.py:1498: FutureWarning: is_categorical_dtype is deprecated and will be removed in a future version. Use isinstance(dtype, CategoricalDtype) instead\n",
      "  if pd.api.types.is_categorical_dtype(vector):\n",
      "/usr/local/Caskroom/miniconda/base/envs/nf_sql/lib/python3.9/site-packages/seaborn/_oldcore.py:1498: FutureWarning: is_categorical_dtype is deprecated and will be removed in a future version. Use isinstance(dtype, CategoricalDtype) instead\n",
      "  if pd.api.types.is_categorical_dtype(vector):\n",
      "/usr/local/Caskroom/miniconda/base/envs/nf_sql/lib/python3.9/site-packages/seaborn/_oldcore.py:1498: FutureWarning: is_categorical_dtype is deprecated and will be removed in a future version. Use isinstance(dtype, CategoricalDtype) instead\n",
      "  if pd.api.types.is_categorical_dtype(vector):\n",
      "/usr/local/Caskroom/miniconda/base/envs/nf_sql/lib/python3.9/site-packages/seaborn/_oldcore.py:1498: FutureWarning: is_categorical_dtype is deprecated and will be removed in a future version. Use isinstance(dtype, CategoricalDtype) instead\n",
      "  if pd.api.types.is_categorical_dtype(vector):\n"
     ]
    },
    {
     "data": {
      "image/png": "[encoded data removed]",
      "text/plain": [
       "<Figure size 1400x800 with 1 Axes>"
      ]
     },
     "metadata": {},
     "output_type": "display_data"
    }
   ],
   "source": [
    "# Create a bar plot using seaborn\n",
    "plt.figure(figsize=(14, 8))\n",
    "sns.barplot(x='alcohol_consumption', y='Heart_Attack_Percentage', hue='country', data=merged_df, palette='tab10')\n",
    "\n",
    "plt.xlabel('Alcohol Consumption Level')\n",
    "plt.ylabel('Percentage of Heart Attacks')\n",
    "plt.title('Percentage of Heart Attacks by Country and Alcohol Consumption Level')\n",
    "plt.show()"
   ]
  },
  {
   "cell_type": "code",
   "execution_count": 232,
   "metadata": {},
   "outputs": [
    {
     "data": {
      "text/plain": [
       "Index(['2022', '2021', 'city', 'country', 'remote_jobs',\n",
       "       'overworked_population', 'minimum_vacations_offered_(days)',\n",
       "       'vacations_taken_(days)', 'unemployment', 'multiple_jobholders',\n",
       "       'inflation', 'paid_parental_leave_(days)', 'covid_impact',\n",
       "       'covid_support', 'healthcare', 'access_to_mental_healthcare',\n",
       "       'inclusivity_&_tolerance', 'affordability',\n",
       "       'happiness,_culture_&_leisure', 'city_safety', 'outdoor_spaces',\n",
       "       'air_quality', 'wellness_and_fitness', 'total_score'],\n",
       "      dtype='object')"
      ]
     },
     "execution_count": 232,
     "metadata": {},
     "output_type": "execute_result"
    }
   ],
   "source": [
    "wlb.columns"
   ]
  },
  {
   "cell_type": "code",
   "execution_count": 234,
   "metadata": {},
   "outputs": [
    {
     "data": {
      "text/plain": [
       "0           Norway\n",
       "1      Switzerland\n",
       "2          Finland\n",
       "3      Switzerland\n",
       "4          Denmark\n",
       "          ...     \n",
       "95        Thailand\n",
       "96          Brazil\n",
       "97        Malaysia\n",
       "98             UAE\n",
       "99    South Africa\n",
       "Name: country, Length: 100, dtype: object"
      ]
     },
     "execution_count": 234,
     "metadata": {},
     "output_type": "execute_result"
    }
   ],
   "source": [
    "wlb['country']"
   ]
  }
 ],
 "metadata": {
  "kernelspec": {
   "display_name": "nf_sql",
   "language": "python",
   "name": "python3"
  },
  "language_info": {
   "codemirror_mode": {
    "name": "ipython",
    "version": 3
   },
   "file_extension": ".py",
   "mimetype": "text/x-python",
   "name": "python",
   "nbconvert_exporter": "python",
   "pygments_lexer": "ipython3",
   "version": "3.9.19"
  }
 },
 "nbformat": 4,
 "nbformat_minor": 2
}
